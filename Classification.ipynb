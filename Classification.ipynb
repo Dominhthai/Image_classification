{
 "cells": [
  {
   "cell_type": "code",
   "execution_count": 1,
   "id": "9e1aa4a1",
   "metadata": {
    "_cell_guid": "b1076dfc-b9ad-4769-8c92-a6c4dae69d19",
    "_uuid": "8f2839f25d086af736a60e9eeb907d3b93b6e0e5",
    "execution": {
     "iopub.execute_input": "2024-09-05T10:41:47.289346Z",
     "iopub.status.busy": "2024-09-05T10:41:47.289007Z",
     "iopub.status.idle": "2024-09-05T10:41:47.956140Z",
     "shell.execute_reply": "2024-09-05T10:41:47.955208Z"
    },
    "papermill": {
     "duration": 0.681644,
     "end_time": "2024-09-05T10:41:47.958532",
     "exception": false,
     "start_time": "2024-09-05T10:41:47.276888",
     "status": "completed"
    },
    "tags": []
   },
   "outputs": [],
   "source": [
    "# This Python 3 environment comes with many helpful analytics libraries installed\n",
    "# It is defined by the kaggle/python Docker image: https://github.com/kaggle/docker-python\n",
    "# For example, here's several helpful packages to load\n",
    "\n",
    "import numpy as np # linear algebra\n",
    "import pandas as pd # data processing, CSV file I/O (e.g. pd.read_csv)\n",
    "\n",
    "# Input data files are available in the read-only \"../input/\" directory\n",
    "# For example, running this (by clicking run or pressing Shift+Enter) will list all files under the input directory\n",
    "\n",
    "import os\n",
    "for dirname, _, filenames in os.walk('/kaggle/input'):\n",
    "    for filename in filenames:\n",
    "        print(os.path.join(dirname, filename))\n",
    "\n",
    "# You can write up to 20GB to the current directory (/kaggle/working/) that gets preserved as output when you create a version using \"Save & Run All\" \n",
    "# You can also write temporary files to /kaggle/temp/, but they won't be saved outside of the current session"
   ]
  },
  {
   "cell_type": "code",
   "execution_count": 2,
   "id": "f19484f6",
   "metadata": {
    "execution": {
     "iopub.execute_input": "2024-09-05T10:41:47.981076Z",
     "iopub.status.busy": "2024-09-05T10:41:47.980482Z",
     "iopub.status.idle": "2024-09-05T10:41:51.245654Z",
     "shell.execute_reply": "2024-09-05T10:41:51.244851Z"
    },
    "papermill": {
     "duration": 3.278909,
     "end_time": "2024-09-05T10:41:51.248222",
     "exception": false,
     "start_time": "2024-09-05T10:41:47.969313",
     "status": "completed"
    },
    "tags": []
   },
   "outputs": [],
   "source": [
    "import torch"
   ]
  },
  {
   "cell_type": "code",
   "execution_count": 3,
   "id": "c6da6bdb",
   "metadata": {
    "execution": {
     "iopub.execute_input": "2024-09-05T10:41:51.270519Z",
     "iopub.status.busy": "2024-09-05T10:41:51.270107Z",
     "iopub.status.idle": "2024-09-05T10:41:51.293755Z",
     "shell.execute_reply": "2024-09-05T10:41:51.292912Z"
    },
    "papermill": {
     "duration": 0.03667,
     "end_time": "2024-09-05T10:41:51.295588",
     "exception": false,
     "start_time": "2024-09-05T10:41:51.258918",
     "status": "completed"
    },
    "tags": []
   },
   "outputs": [],
   "source": [
    "x = torch.randn(6, 7, dtype = torch.float)\n",
    "y = torch.randn(6, 7, dtype = torch.float)"
   ]
  },
  {
   "cell_type": "code",
   "execution_count": 4,
   "id": "ed83e3f9",
   "metadata": {
    "execution": {
     "iopub.execute_input": "2024-09-05T10:41:51.317236Z",
     "iopub.status.busy": "2024-09-05T10:41:51.316964Z",
     "iopub.status.idle": "2024-09-05T10:41:51.384184Z",
     "shell.execute_reply": "2024-09-05T10:41:51.383178Z"
    },
    "papermill": {
     "duration": 0.080359,
     "end_time": "2024-09-05T10:41:51.386226",
     "exception": false,
     "start_time": "2024-09-05T10:41:51.305867",
     "status": "completed"
    },
    "tags": []
   },
   "outputs": [
    {
     "name": "stdout",
     "output_type": "stream",
     "text": [
      "tensor([[-1.1127, -0.9761, -0.4593, -0.0268, -0.3577, -1.2646, -0.3783],\n",
      "        [ 0.2239, -0.1615,  0.3042, -0.8149,  1.0675, -0.4848,  0.3156],\n",
      "        [-0.4121, -0.4204, -0.8748, -0.5113, -0.4690,  0.5458, -0.9780],\n",
      "        [ 0.6717, -2.1205,  0.1171, -0.5202,  0.8434, -1.1052,  0.2355],\n",
      "        [ 0.5539,  0.7632,  0.2605,  0.3090,  1.5879,  0.3110, -0.2702],\n",
      "        [ 0.9055, -1.2719, -0.0164, -0.1631,  0.2737, -0.3009, -0.5670]])\n",
      "tensor([[-0.1252, -1.3585, -1.8395, -1.2232, -2.0584, -0.0197, -0.9678],\n",
      "        [ 0.1752,  0.2743,  1.0217, -0.5568, -2.1041, -0.6181, -0.0743],\n",
      "        [ 0.6557, -0.1849, -0.2083, -0.8393,  0.3752,  1.1572, -1.7396],\n",
      "        [-1.4835, -2.2252, -0.8037,  0.9622, -0.0744,  0.2214,  0.7536],\n",
      "        [ 0.9774, -0.7006,  1.7626, -0.4617,  0.0232,  1.0933, -1.1667],\n",
      "        [-1.6380, -0.8136,  0.9310, -0.7787, -1.3731,  0.8019,  1.4358]])\n"
     ]
    }
   ],
   "source": [
    "print(x)\n",
    "print(y)"
   ]
  },
  {
   "cell_type": "code",
   "execution_count": 5,
   "id": "37506cd2",
   "metadata": {
    "execution": {
     "iopub.execute_input": "2024-09-05T10:41:51.408822Z",
     "iopub.status.busy": "2024-09-05T10:41:51.408518Z",
     "iopub.status.idle": "2024-09-05T10:41:51.415831Z",
     "shell.execute_reply": "2024-09-05T10:41:51.414786Z"
    },
    "papermill": {
     "duration": 0.020494,
     "end_time": "2024-09-05T10:41:51.417832",
     "exception": false,
     "start_time": "2024-09-05T10:41:51.397338",
     "status": "completed"
    },
    "tags": []
   },
   "outputs": [
    {
     "name": "stdout",
     "output_type": "stream",
     "text": [
      "tensor([[-1.2379, -2.3346, -2.2988, -1.2500, -2.4161, -1.2843, -1.3461],\n",
      "        [ 0.3990,  0.1128,  1.3258, -1.3718, -1.0366, -1.1029,  0.2413],\n",
      "        [ 0.2436, -0.6052, -1.0830, -1.3506, -0.0938,  1.7030, -2.7176],\n",
      "        [-0.8118, -4.3456, -0.6866,  0.4420,  0.7690, -0.8837,  0.9891],\n",
      "        [ 1.5312,  0.0626,  2.0231, -0.1528,  1.6112,  1.4043, -1.4369],\n",
      "        [-0.7325, -2.0855,  0.9146, -0.9418, -1.0994,  0.5009,  0.8688]])\n"
     ]
    }
   ],
   "source": [
    "result = torch.randn(6, 7, dtype = torch.float)\n",
    "torch.add(x, y, out=result)\n",
    "print(result)"
   ]
  },
  {
   "cell_type": "code",
   "execution_count": 6,
   "id": "57b2443c",
   "metadata": {
    "execution": {
     "iopub.execute_input": "2024-09-05T10:41:51.440025Z",
     "iopub.status.busy": "2024-09-05T10:41:51.439765Z",
     "iopub.status.idle": "2024-09-05T10:41:51.451213Z",
     "shell.execute_reply": "2024-09-05T10:41:51.450381Z"
    },
    "papermill": {
     "duration": 0.02452,
     "end_time": "2024-09-05T10:41:51.453101",
     "exception": false,
     "start_time": "2024-09-05T10:41:51.428581",
     "status": "completed"
    },
    "tags": []
   },
   "outputs": [
    {
     "name": "stdout",
     "output_type": "stream",
     "text": [
      "tensor([-2.3346,  0.1128, -0.6052, -4.3456,  0.0626, -2.0855])\n"
     ]
    }
   ],
   "source": [
    "print(result[:, 1])"
   ]
  },
  {
   "cell_type": "code",
   "execution_count": 7,
   "id": "95626efb",
   "metadata": {
    "execution": {
     "iopub.execute_input": "2024-09-05T10:41:51.475131Z",
     "iopub.status.busy": "2024-09-05T10:41:51.474873Z",
     "iopub.status.idle": "2024-09-05T10:41:51.481280Z",
     "shell.execute_reply": "2024-09-05T10:41:51.480486Z"
    },
    "papermill": {
     "duration": 0.01953,
     "end_time": "2024-09-05T10:41:51.483135",
     "exception": false,
     "start_time": "2024-09-05T10:41:51.463605",
     "status": "completed"
    },
    "tags": []
   },
   "outputs": [
    {
     "data": {
      "text/plain": [
       "torch.Size([6, 7])"
      ]
     },
     "execution_count": 7,
     "metadata": {},
     "output_type": "execute_result"
    }
   ],
   "source": [
    "result.size()"
   ]
  },
  {
   "cell_type": "code",
   "execution_count": 8,
   "id": "5f8a3151",
   "metadata": {
    "execution": {
     "iopub.execute_input": "2024-09-05T10:41:51.505307Z",
     "iopub.status.busy": "2024-09-05T10:41:51.505054Z",
     "iopub.status.idle": "2024-09-05T10:41:51.511830Z",
     "shell.execute_reply": "2024-09-05T10:41:51.511026Z"
    },
    "papermill": {
     "duration": 0.019933,
     "end_time": "2024-09-05T10:41:51.513618",
     "exception": false,
     "start_time": "2024-09-05T10:41:51.493685",
     "status": "completed"
    },
    "tags": []
   },
   "outputs": [
    {
     "data": {
      "text/plain": [
       "tensor([[[-1.2379, -2.3346, -2.2988],\n",
       "         [-1.2500, -2.4161, -1.2843]],\n",
       "\n",
       "        [[-1.3461,  0.3990,  0.1128],\n",
       "         [ 1.3258, -1.3718, -1.0366]],\n",
       "\n",
       "        [[-1.1029,  0.2413,  0.2436],\n",
       "         [-0.6052, -1.0830, -1.3506]],\n",
       "\n",
       "        [[-0.0938,  1.7030, -2.7176],\n",
       "         [-0.8118, -4.3456, -0.6866]],\n",
       "\n",
       "        [[ 0.4420,  0.7690, -0.8837],\n",
       "         [ 0.9891,  1.5312,  0.0626]],\n",
       "\n",
       "        [[ 2.0231, -0.1528,  1.6112],\n",
       "         [ 1.4043, -1.4369, -0.7325]],\n",
       "\n",
       "        [[-2.0855,  0.9146, -0.9418],\n",
       "         [-1.0994,  0.5009,  0.8688]]])"
      ]
     },
     "execution_count": 8,
     "metadata": {},
     "output_type": "execute_result"
    }
   ],
   "source": [
    "a = result.view(-1, 2, 3)\n",
    "a"
   ]
  },
  {
   "cell_type": "code",
   "execution_count": 9,
   "id": "0e28d2f2",
   "metadata": {
    "execution": {
     "iopub.execute_input": "2024-09-05T10:41:51.536004Z",
     "iopub.status.busy": "2024-09-05T10:41:51.535747Z",
     "iopub.status.idle": "2024-09-05T10:41:51.541167Z",
     "shell.execute_reply": "2024-09-05T10:41:51.540026Z"
    },
    "papermill": {
     "duration": 0.019158,
     "end_time": "2024-09-05T10:41:51.543445",
     "exception": false,
     "start_time": "2024-09-05T10:41:51.524287",
     "status": "completed"
    },
    "tags": []
   },
   "outputs": [
    {
     "name": "stdout",
     "output_type": "stream",
     "text": [
      "[[[-1.2378917  -2.3345513  -2.2987792 ]\n",
      "  [-1.2499934  -2.4160786  -1.2843082 ]]\n",
      "\n",
      " [[-1.3460987   0.3990239   0.11283691]\n",
      "  [ 1.3258282  -1.3717523  -1.0366317 ]]\n",
      "\n",
      " [[-1.1029432   0.24133381  0.24360406]\n",
      "  [-0.60524637 -1.0830398  -1.3506336 ]]\n",
      "\n",
      " [[-0.09382853  1.7029696  -2.7176218 ]\n",
      "  [-0.81182146 -4.345625   -0.6866365 ]]\n",
      "\n",
      " [[ 0.44198203  0.7689928  -0.88374335]\n",
      "  [ 0.989093    1.5312464   0.06261015]]\n",
      "\n",
      " [[ 2.023117   -0.15276024  1.6111546 ]\n",
      "  [ 1.4042995  -1.4369043  -0.7325429 ]]\n",
      "\n",
      " [[-2.0855165   0.9145544  -0.94184417]\n",
      "  [-1.0994028   0.5009291   0.8688169 ]]]\n"
     ]
    }
   ],
   "source": [
    "print(a.numpy())"
   ]
  },
  {
   "cell_type": "code",
   "execution_count": 10,
   "id": "5a307d2e",
   "metadata": {
    "execution": {
     "iopub.execute_input": "2024-09-05T10:41:51.566897Z",
     "iopub.status.busy": "2024-09-05T10:41:51.566592Z",
     "iopub.status.idle": "2024-09-05T10:41:51.573047Z",
     "shell.execute_reply": "2024-09-05T10:41:51.572226Z"
    },
    "papermill": {
     "duration": 0.020117,
     "end_time": "2024-09-05T10:41:51.574895",
     "exception": false,
     "start_time": "2024-09-05T10:41:51.554778",
     "status": "completed"
    },
    "tags": []
   },
   "outputs": [
    {
     "data": {
      "text/plain": [
       "tensor([[-0.1252, -1.3585, -1.8395, -1.2232, -2.0584, -0.0197, -0.9678],\n",
       "        [ 0.1752,  0.2743,  1.0217, -0.5568, -2.1041, -0.6181, -0.0743],\n",
       "        [ 0.6557, -0.1849, -0.2083, -0.8393,  0.3752,  1.1572, -1.7396],\n",
       "        [-1.4835, -2.2252, -0.8037,  0.9622, -0.0744,  0.2214,  0.7536],\n",
       "        [ 0.9774, -0.7006,  1.7626, -0.4617,  0.0232,  1.0933, -1.1667],\n",
       "        [-1.6380, -0.8136,  0.9310, -0.7787, -1.3731,  0.8019,  1.4358]],\n",
       "       requires_grad=True)"
      ]
     },
     "execution_count": 10,
     "metadata": {},
     "output_type": "execute_result"
    }
   ],
   "source": [
    "x.requires_grad_()\n",
    "y.requires_grad_()\n",
    "x\n",
    "y"
   ]
  },
  {
   "cell_type": "code",
   "execution_count": 11,
   "id": "8cb830bc",
   "metadata": {
    "execution": {
     "iopub.execute_input": "2024-09-05T10:41:51.598087Z",
     "iopub.status.busy": "2024-09-05T10:41:51.597829Z",
     "iopub.status.idle": "2024-09-05T10:41:51.604804Z",
     "shell.execute_reply": "2024-09-05T10:41:51.603979Z"
    },
    "papermill": {
     "duration": 0.020945,
     "end_time": "2024-09-05T10:41:51.606771",
     "exception": false,
     "start_time": "2024-09-05T10:41:51.585826",
     "status": "completed"
    },
    "tags": []
   },
   "outputs": [
    {
     "data": {
      "text/plain": [
       "tensor([[ 1.8748,  0.6415,  0.1605,  0.7768, -0.0584,  1.9803,  1.0322],\n",
       "        [ 2.1752,  2.2743,  3.0217,  1.4432, -0.1041,  1.3819,  1.9257],\n",
       "        [ 2.6557,  1.8151,  1.7917,  1.1607,  2.3752,  3.1572,  0.2604],\n",
       "        [ 0.5165, -0.2252,  1.1963,  2.9622,  1.9256,  2.2214,  2.7536],\n",
       "        [ 2.9774,  1.2994,  3.7626,  1.5383,  2.0232,  3.0933,  0.8333],\n",
       "        [ 0.3620,  1.1864,  2.9310,  1.2213,  0.6269,  2.8019,  3.4358]],\n",
       "       grad_fn=<AddBackward0>)"
      ]
     },
     "execution_count": 11,
     "metadata": {},
     "output_type": "execute_result"
    }
   ],
   "source": [
    "b = y + 2\n",
    "b"
   ]
  },
  {
   "cell_type": "code",
   "execution_count": 12,
   "id": "a8da47b4",
   "metadata": {
    "execution": {
     "iopub.execute_input": "2024-09-05T10:41:51.630037Z",
     "iopub.status.busy": "2024-09-05T10:41:51.629781Z",
     "iopub.status.idle": "2024-09-05T10:41:51.637811Z",
     "shell.execute_reply": "2024-09-05T10:41:51.637000Z"
    },
    "papermill": {
     "duration": 0.021868,
     "end_time": "2024-09-05T10:41:51.639743",
     "exception": false,
     "start_time": "2024-09-05T10:41:51.617875",
     "status": "completed"
    },
    "tags": []
   },
   "outputs": [
    {
     "data": {
      "text/plain": [
       "tensor([[1., 1., 1.],\n",
       "        [1., 1., 1.]], requires_grad=True)"
      ]
     },
     "execution_count": 12,
     "metadata": {},
     "output_type": "execute_result"
    }
   ],
   "source": [
    "x = torch.ones(2, 3, requires_grad = True)\n",
    "x"
   ]
  },
  {
   "cell_type": "code",
   "execution_count": 13,
   "id": "8ed9c8a3",
   "metadata": {
    "execution": {
     "iopub.execute_input": "2024-09-05T10:41:51.663113Z",
     "iopub.status.busy": "2024-09-05T10:41:51.662858Z",
     "iopub.status.idle": "2024-09-05T10:41:51.668886Z",
     "shell.execute_reply": "2024-09-05T10:41:51.668079Z"
    },
    "papermill": {
     "duration": 0.019833,
     "end_time": "2024-09-05T10:41:51.670705",
     "exception": false,
     "start_time": "2024-09-05T10:41:51.650872",
     "status": "completed"
    },
    "tags": []
   },
   "outputs": [
    {
     "data": {
      "text/plain": [
       "tensor([[6., 6., 6.],\n",
       "        [6., 6., 6.]], grad_fn=<AddBackward0>)"
      ]
     },
     "execution_count": 13,
     "metadata": {},
     "output_type": "execute_result"
    }
   ],
   "source": [
    "y = x + 5\n",
    "y"
   ]
  },
  {
   "cell_type": "code",
   "execution_count": 14,
   "id": "8fd3f475",
   "metadata": {
    "execution": {
     "iopub.execute_input": "2024-09-05T10:41:51.694151Z",
     "iopub.status.busy": "2024-09-05T10:41:51.693867Z",
     "iopub.status.idle": "2024-09-05T10:41:51.702161Z",
     "shell.execute_reply": "2024-09-05T10:41:51.701219Z"
    },
    "papermill": {
     "duration": 0.022139,
     "end_time": "2024-09-05T10:41:51.704048",
     "exception": false,
     "start_time": "2024-09-05T10:41:51.681909",
     "status": "completed"
    },
    "tags": []
   },
   "outputs": [
    {
     "name": "stdout",
     "output_type": "stream",
     "text": [
      "tensor([[108., 108., 108.],\n",
      "        [108., 108., 108.]], grad_fn=<MulBackward0>)\n",
      "tensor(108., grad_fn=<MeanBackward0>)\n"
     ]
    }
   ],
   "source": [
    "z = y * y * 3\n",
    "out = z.mean()\n",
    "print(z)\n",
    "print(out)"
   ]
  },
  {
   "cell_type": "code",
   "execution_count": 15,
   "id": "4df8e966",
   "metadata": {
    "execution": {
     "iopub.execute_input": "2024-09-05T10:41:51.727962Z",
     "iopub.status.busy": "2024-09-05T10:41:51.727671Z",
     "iopub.status.idle": "2024-09-05T10:41:51.823942Z",
     "shell.execute_reply": "2024-09-05T10:41:51.823157Z"
    },
    "papermill": {
     "duration": 0.110655,
     "end_time": "2024-09-05T10:41:51.826081",
     "exception": false,
     "start_time": "2024-09-05T10:41:51.715426",
     "status": "completed"
    },
    "tags": []
   },
   "outputs": [],
   "source": [
    "# Compute the backward\n",
    "out.backward()"
   ]
  },
  {
   "cell_type": "code",
   "execution_count": 16,
   "id": "22027df4",
   "metadata": {
    "execution": {
     "iopub.execute_input": "2024-09-05T10:41:51.850179Z",
     "iopub.status.busy": "2024-09-05T10:41:51.849888Z",
     "iopub.status.idle": "2024-09-05T10:41:51.856180Z",
     "shell.execute_reply": "2024-09-05T10:41:51.855375Z"
    },
    "papermill": {
     "duration": 0.02051,
     "end_time": "2024-09-05T10:41:51.858089",
     "exception": false,
     "start_time": "2024-09-05T10:41:51.837579",
     "status": "completed"
    },
    "tags": []
   },
   "outputs": [
    {
     "data": {
      "text/plain": [
       "tensor([[6., 6., 6.],\n",
       "        [6., 6., 6.]])"
      ]
     },
     "execution_count": 16,
     "metadata": {},
     "output_type": "execute_result"
    }
   ],
   "source": [
    "x.grad"
   ]
  },
  {
   "cell_type": "markdown",
   "id": "e52a117d",
   "metadata": {
    "papermill": {
     "duration": 0.011319,
     "end_time": "2024-09-05T10:41:51.880844",
     "exception": false,
     "start_time": "2024-09-05T10:41:51.869525",
     "status": "completed"
    },
    "tags": []
   },
   "source": [
    "Simple Neural Network"
   ]
  },
  {
   "cell_type": "code",
   "execution_count": 17,
   "id": "f0defa18",
   "metadata": {
    "execution": {
     "iopub.execute_input": "2024-09-05T10:41:51.905383Z",
     "iopub.status.busy": "2024-09-05T10:41:51.905105Z",
     "iopub.status.idle": "2024-09-05T10:41:51.914827Z",
     "shell.execute_reply": "2024-09-05T10:41:51.914025Z"
    },
    "papermill": {
     "duration": 0.023995,
     "end_time": "2024-09-05T10:41:51.916650",
     "exception": false,
     "start_time": "2024-09-05T10:41:51.892655",
     "status": "completed"
    },
    "tags": []
   },
   "outputs": [],
   "source": [
    "import torch\n",
    "import torch.nn as nn\n",
    "import torch.nn.functional as F\n",
    "\n",
    "class Net(nn.Module):\n",
    "    def __init__(self):\n",
    "        super(Net, self).__init__()\n",
    "        # DEINFE ALL THE LAYERS OF NETWORK\n",
    "        \n",
    "        # Define the flate\n",
    "        self.flatten = nn.Flatten()\n",
    "        \n",
    "        # Define convolution (hidden) layers\n",
    "        self.conv1 = nn.Conv2d(1, 6, 5) # input_channel(nodes)=1; output_channel(nodes)=6; kernel_size = 5.\n",
    "        self.conv2 = nn.Conv2d(6, 16, 5)\n",
    "        \n",
    "        # Define Fully-connected Layers\n",
    "        self.fc1 = nn.Linear(16*5*5, 120) # input node=16*5*5 since we have 16 nodes, each node is a 5*5, output node-120\n",
    "        \n",
    "        # At these steps, we're gonna reduce size of the output\n",
    "        # Each reduction layer, we reduce to half\n",
    "        # Note: Too many layers can cause to vanishing gradient\n",
    "        self.fc2 = nn.Linear(120, 84)\n",
    "        self.fc3 = nn.Linear(84, 40)\n",
    "        self.fc4 = nn.Linear(40, 10)\n",
    "        \n",
    "    def forward(self, x):\n",
    "        \"\"\"This method defines the forward pass of the neural network\"\"\"\n",
    "        x = F.max_pool2d(F.relu(self.conv1(x)), (2, 2)) # The first convolutional layer with all the max pooling and relu layers: there is a 2X2 max pooling\n",
    "        x = F.max_pool2d(F.relu(self.conv2(x)), 2) # The second conv layer: 2 X 2 max pooling\n",
    "        x = self.flatten(x)# The reshape (flattening) layer which changes the shape of the tensor from that of a multichannel 2D tensor to a 1D tensor\n",
    "        x = F.relu(self.fc1(x)) # Fully connected layer with activation\n",
    "        x = F.relu(self.fc2(x)) # Fully connected layer with activation\n",
    "        x = F.relu(self.fc3(x))\n",
    "        x = self.fc4(x) # Output layer\n",
    "        \n",
    "        return x\n",
    "    "
   ]
  },
  {
   "cell_type": "code",
   "execution_count": 18,
   "id": "95490bc5",
   "metadata": {
    "execution": {
     "iopub.execute_input": "2024-09-05T10:41:51.940606Z",
     "iopub.status.busy": "2024-09-05T10:41:51.940353Z",
     "iopub.status.idle": "2024-09-05T10:41:51.946024Z",
     "shell.execute_reply": "2024-09-05T10:41:51.945184Z"
    },
    "papermill": {
     "duration": 0.019879,
     "end_time": "2024-09-05T10:41:51.948007",
     "exception": false,
     "start_time": "2024-09-05T10:41:51.928128",
     "status": "completed"
    },
    "tags": []
   },
   "outputs": [
    {
     "data": {
      "text/plain": [
       "device(type='cuda', index=0)"
      ]
     },
     "execution_count": 18,
     "metadata": {},
     "output_type": "execute_result"
    }
   ],
   "source": [
    "# Define GPU to compute\n",
    "device = torch.device(\"cuda:0\" if torch.cuda.is_available() else \"cpu\") # device object\n",
    "device"
   ]
  },
  {
   "cell_type": "code",
   "execution_count": 19,
   "id": "dc72e7b9",
   "metadata": {
    "execution": {
     "iopub.execute_input": "2024-09-05T10:41:51.972222Z",
     "iopub.status.busy": "2024-09-05T10:41:51.971961Z",
     "iopub.status.idle": "2024-09-05T10:41:52.158970Z",
     "shell.execute_reply": "2024-09-05T10:41:52.157899Z"
    },
    "papermill": {
     "duration": 0.201753,
     "end_time": "2024-09-05T10:41:52.161345",
     "exception": false,
     "start_time": "2024-09-05T10:41:51.959592",
     "status": "completed"
    },
    "tags": []
   },
   "outputs": [
    {
     "name": "stdout",
     "output_type": "stream",
     "text": [
      "Net(\n",
      "  (flatten): Flatten(start_dim=1, end_dim=-1)\n",
      "  (conv1): Conv2d(1, 6, kernel_size=(5, 5), stride=(1, 1))\n",
      "  (conv2): Conv2d(6, 16, kernel_size=(5, 5), stride=(1, 1))\n",
      "  (fc1): Linear(in_features=400, out_features=120, bias=True)\n",
      "  (fc2): Linear(in_features=120, out_features=84, bias=True)\n",
      "  (fc3): Linear(in_features=84, out_features=40, bias=True)\n",
      "  (fc4): Linear(in_features=40, out_features=10, bias=True)\n",
      ")\n"
     ]
    }
   ],
   "source": [
    "# create an instance of Net, and move it to the device\n",
    "model = Net().to(device)\n",
    "# Print structure (in forward())\n",
    "print(model)"
   ]
  },
  {
   "cell_type": "code",
   "execution_count": 20,
   "id": "64512c75",
   "metadata": {
    "execution": {
     "iopub.execute_input": "2024-09-05T10:41:52.186523Z",
     "iopub.status.busy": "2024-09-05T10:41:52.186215Z",
     "iopub.status.idle": "2024-09-05T10:41:52.191713Z",
     "shell.execute_reply": "2024-09-05T10:41:52.190835Z"
    },
    "papermill": {
     "duration": 0.020447,
     "end_time": "2024-09-05T10:41:52.193929",
     "exception": false,
     "start_time": "2024-09-05T10:41:52.173482",
     "status": "completed"
    },
    "tags": []
   },
   "outputs": [
    {
     "name": "stdout",
     "output_type": "stream",
     "text": [
      "12\n",
      "torch.Size([6, 1, 5, 5])\n",
      "torch.Size([6])\n",
      "torch.Size([16, 6, 5, 5])\n",
      "torch.Size([16])\n",
      "torch.Size([120, 400])\n",
      "torch.Size([120])\n",
      "torch.Size([84, 120])\n",
      "torch.Size([84])\n",
      "torch.Size([40, 84])\n",
      "torch.Size([40])\n",
      "torch.Size([10, 40])\n",
      "torch.Size([10])\n"
     ]
    }
   ],
   "source": [
    "# The learnable parameters of the network can be returned using the net.parameters() function\n",
    "params = list(model.parameters())\n",
    "print(len(params))\n",
    "for i in range(len(params)):\n",
    "    print(params[i].size())"
   ]
  },
  {
   "cell_type": "markdown",
   "id": "f5739418",
   "metadata": {
    "papermill": {
     "duration": 0.011654,
     "end_time": "2024-09-05T10:41:52.217667",
     "exception": false,
     "start_time": "2024-09-05T10:41:52.206013",
     "status": "completed"
    },
    "tags": []
   },
   "source": [
    "# ***Now let's train a model***"
   ]
  },
  {
   "cell_type": "markdown",
   "id": "bb89f1ba",
   "metadata": {
    "papermill": {
     "duration": 0.011583,
     "end_time": "2024-09-05T10:41:52.241146",
     "exception": false,
     "start_time": "2024-09-05T10:41:52.229563",
     "status": "completed"
    },
    "tags": []
   },
   "source": [
    "## Training an actual classifier model"
   ]
  },
  {
   "cell_type": "code",
   "execution_count": 21,
   "id": "9b08ee17",
   "metadata": {
    "execution": {
     "iopub.execute_input": "2024-09-05T10:41:52.266059Z",
     "iopub.status.busy": "2024-09-05T10:41:52.265781Z",
     "iopub.status.idle": "2024-09-05T10:41:53.871537Z",
     "shell.execute_reply": "2024-09-05T10:41:53.870518Z"
    },
    "papermill": {
     "duration": 1.62132,
     "end_time": "2024-09-05T10:41:53.874338",
     "exception": false,
     "start_time": "2024-09-05T10:41:52.253018",
     "status": "completed"
    },
    "tags": []
   },
   "outputs": [],
   "source": [
    "import torch\n",
    "import torchvision\n",
    "import torchvision.transforms as transforms"
   ]
  },
  {
   "cell_type": "markdown",
   "id": "2dfcd64c",
   "metadata": {
    "papermill": {
     "duration": 0.011738,
     "end_time": "2024-09-05T10:41:53.901835",
     "exception": false,
     "start_time": "2024-09-05T10:41:53.890097",
     "status": "completed"
    },
    "tags": []
   },
   "source": [
    "> *We will use the CIFAR 10 dataset which comes preloaded in the torchvision package. It has the classes: ‘airplane’, ‘automobile’, ‘bird’, ‘cat’, ‘deer’, ‘dog’, ‘frog’, ‘horse’, ‘ship’, ‘truck’. The images in CIFAR-10 are of size 3x32x32, i.e. 3-channel color images of 32x32 pixels in size.*\n"
   ]
  },
  {
   "cell_type": "markdown",
   "id": "1819ef69",
   "metadata": {
    "papermill": {
     "duration": 0.011677,
     "end_time": "2024-09-05T10:41:53.925344",
     "exception": false,
     "start_time": "2024-09-05T10:41:53.913667",
     "status": "completed"
    },
    "tags": []
   },
   "source": [
    "1. Import important library"
   ]
  },
  {
   "cell_type": "code",
   "execution_count": 22,
   "id": "b454e61e",
   "metadata": {
    "execution": {
     "iopub.execute_input": "2024-09-05T10:41:53.951084Z",
     "iopub.status.busy": "2024-09-05T10:41:53.950189Z",
     "iopub.status.idle": "2024-09-05T10:42:09.092125Z",
     "shell.execute_reply": "2024-09-05T10:42:09.091216Z"
    },
    "papermill": {
     "duration": 15.157194,
     "end_time": "2024-09-05T10:42:09.094421",
     "exception": false,
     "start_time": "2024-09-05T10:41:53.937227",
     "status": "completed"
    },
    "tags": []
   },
   "outputs": [
    {
     "name": "stdout",
     "output_type": "stream",
     "text": [
      "Downloading https://www.cs.toronto.edu/~kriz/cifar-10-python.tar.gz to ./data/cifar-10-python.tar.gz\n"
     ]
    },
    {
     "name": "stderr",
     "output_type": "stream",
     "text": [
      "100%|██████████| 170498071/170498071 [00:10<00:00, 15853217.46it/s]\n"
     ]
    },
    {
     "name": "stdout",
     "output_type": "stream",
     "text": [
      "Extracting ./data/cifar-10-python.tar.gz to ./data\n",
      "Files already downloaded and verified\n"
     ]
    }
   ],
   "source": [
    "# We define the dataset as tensors, and normalize the data (so that their input values will be like probability, and the classes will not exceed\n",
    "# too much compared to each other\n",
    "transform = transforms.Compose([transforms.ToTensor(), transforms.Normalize((0.5, 0.5, 0.5), (0.5, 0.5, 0.5))])\n",
    "\n",
    "full_trainset = torchvision.datasets.CIFAR10(root='./data', train=True, download=True, transform=transform)\n",
    "\n",
    "# Split the dataset into training and validation sets\n",
    "train_size = int(0.85 * len(full_trainset))  # 85% for training\n",
    "val_size = len(full_trainset) - train_size   # 15% for validation\n",
    "trainset, valset = torch.utils.data.random_split(full_trainset, [train_size, val_size])\n",
    "\n",
    "# Load the train and validaition dataset\n",
    "trainloader = torch.utils.data.DataLoader(trainset, batch_size=4, shuffle=True, num_workers=2)\n",
    "valloader = torch.utils.data.DataLoader(valset, batch_size=4, shuffle=True, num_workers=2)\n",
    "\n",
    "# Similar to test dataset\n",
    "testset = torchvision.datasets.CIFAR10(root=\"./data\", train = False, download=True, transform=transform)\n",
    "\n",
    "testloader = torch.utils.data.DataLoader(testset, batch_size = 4, shuffle=False, num_workers=2)\n",
    "\n",
    "classes = ('plane', 'car', 'bird', 'cat', 'deer', 'dog', 'frog', 'horse', 'ship', 'truck')"
   ]
  },
  {
   "cell_type": "markdown",
   "id": "4290aea0",
   "metadata": {
    "papermill": {
     "duration": 0.017968,
     "end_time": "2024-09-05T10:42:09.131406",
     "exception": false,
     "start_time": "2024-09-05T10:42:09.113438",
     "status": "completed"
    },
    "tags": []
   },
   "source": [
    "We show some of pictures"
   ]
  },
  {
   "cell_type": "code",
   "execution_count": 23,
   "id": "a9b83dc6",
   "metadata": {
    "execution": {
     "iopub.execute_input": "2024-09-05T10:42:09.168712Z",
     "iopub.status.busy": "2024-09-05T10:42:09.168356Z",
     "iopub.status.idle": "2024-09-05T10:42:09.527693Z",
     "shell.execute_reply": "2024-09-05T10:42:09.526409Z"
    },
    "papermill": {
     "duration": 0.380897,
     "end_time": "2024-09-05T10:42:09.529879",
     "exception": false,
     "start_time": "2024-09-05T10:42:09.148982",
     "status": "completed"
    },
    "tags": []
   },
   "outputs": [
    {
     "data": {
      "image/png": "[encoded data removed]",
      "text/plain": [
       "<Figure size 640x480 with 1 Axes>"
      ]
     },
     "metadata": {},
     "output_type": "display_data"
    },
    {
     "name": "stdout",
     "output_type": "stream",
     "text": [
      "  cat   dog   dog  deer\n"
     ]
    }
   ],
   "source": [
    "import matplotlib.pyplot as plt\n",
    "import numpy as np\n",
    "\n",
    "# functions to show an image\n",
    "\n",
    "\n",
    "def imshow(img):\n",
    "    img = img / 2 + 0.5     # unnormalize\n",
    "    npimg = img.numpy()\n",
    "    plt.imshow(np.transpose(npimg, (1, 2, 0))) # The original size is (3, 32, 32) we need to tranpose (32, 32, 3) for imshow to display \n",
    "    plt.show()\n",
    "\n",
    "\n",
    "# get some random training images\n",
    "dataiter = iter(trainloader)\n",
    "images, labels = next(dataiter)\n",
    "\n",
    "# show images\n",
    "imshow(torchvision.utils.make_grid(images))\n",
    "# print labels\n",
    "print(' '.join('%5s' % classes[labels[j]] for j in range(4)))"
   ]
  },
  {
   "cell_type": "markdown",
   "id": "0f8422a2",
   "metadata": {
    "papermill": {
     "duration": 0.017733,
     "end_time": "2024-09-05T10:42:09.566055",
     "exception": false,
     "start_time": "2024-09-05T10:42:09.548322",
     "status": "completed"
    },
    "tags": []
   },
   "source": [
    "### **Define a Convultional Neural Network (CNN)**"
   ]
  },
  {
   "cell_type": "code",
   "execution_count": 24,
   "id": "b049f540",
   "metadata": {
    "execution": {
     "iopub.execute_input": "2024-09-05T10:42:09.603950Z",
     "iopub.status.busy": "2024-09-05T10:42:09.603071Z",
     "iopub.status.idle": "2024-09-05T10:42:09.611212Z",
     "shell.execute_reply": "2024-09-05T10:42:09.610346Z"
    },
    "papermill": {
     "duration": 0.029096,
     "end_time": "2024-09-05T10:42:09.613055",
     "exception": false,
     "start_time": "2024-09-05T10:42:09.583959",
     "status": "completed"
    },
    "tags": []
   },
   "outputs": [
    {
     "data": {
      "text/plain": [
       "torch.Size([3, 32, 32])"
      ]
     },
     "execution_count": 24,
     "metadata": {},
     "output_type": "execute_result"
    }
   ],
   "source": [
    "trainset[10][0].size()"
   ]
  },
  {
   "cell_type": "code",
   "execution_count": 25,
   "id": "ae1b53e9",
   "metadata": {
    "execution": {
     "iopub.execute_input": "2024-09-05T10:42:09.650786Z",
     "iopub.status.busy": "2024-09-05T10:42:09.649957Z",
     "iopub.status.idle": "2024-09-05T10:42:09.658677Z",
     "shell.execute_reply": "2024-09-05T10:42:09.657814Z"
    },
    "papermill": {
     "duration": 0.029897,
     "end_time": "2024-09-05T10:42:09.660472",
     "exception": false,
     "start_time": "2024-09-05T10:42:09.630575",
     "status": "completed"
    },
    "tags": []
   },
   "outputs": [],
   "source": [
    "import torch.nn as nn\n",
    "import torch.nn.functional as F\n",
    "\n",
    "class ConvNet(nn.Module):\n",
    "    def __init__(self):\n",
    "        super(ConvNet, self).__init__()\n",
    "        \n",
    "        self.conv1 = nn.Conv2d(3, 6, 5)\n",
    "        self.conv2 = nn.Conv2d(6, 12, 5)\n",
    "        \n",
    "        self.pool = nn.MaxPool2d(2, 2)\n",
    "        self.flatten = nn.Flatten()\n",
    "        \n",
    "        self.fc1 = nn.Linear(12*5*5, 120)\n",
    "        self.fc2 = nn.Linear(120, 40)\n",
    "        self.fc3 = nn.Linear(40, 10) # Since there are 10 classes\n",
    "        \n",
    "    def forward(self, x):\n",
    "        x = self.pool(F.relu(self.conv1(x)))\n",
    "        x = self.pool(F.relu(self.conv2(x)))\n",
    "        x = self.flatten(x)\n",
    "        x = F.relu(self.fc1(x))\n",
    "        x = F.relu(self.fc2(x))\n",
    "        x = self.fc3(x)\n",
    "        return x"
   ]
  },
  {
   "cell_type": "code",
   "execution_count": 26,
   "id": "232d4906",
   "metadata": {
    "execution": {
     "iopub.execute_input": "2024-09-05T10:42:09.698001Z",
     "iopub.status.busy": "2024-09-05T10:42:09.697681Z",
     "iopub.status.idle": "2024-09-05T10:42:09.706030Z",
     "shell.execute_reply": "2024-09-05T10:42:09.705347Z"
    },
    "papermill": {
     "duration": 0.029104,
     "end_time": "2024-09-05T10:42:09.707966",
     "exception": false,
     "start_time": "2024-09-05T10:42:09.678862",
     "status": "completed"
    },
    "tags": []
   },
   "outputs": [],
   "source": [
    "# Define GPU to compute\n",
    "device = torch.device(\"cuda:0\" if torch.cuda.is_available() else \"cpu\") # device object\n",
    "device\n",
    "\n",
    "net = ConvNet().to(device)\n",
    "# net = ConvNet()"
   ]
  },
  {
   "cell_type": "markdown",
   "id": "a9790962",
   "metadata": {
    "papermill": {
     "duration": 0.017319,
     "end_time": "2024-09-05T10:42:09.742616",
     "exception": false,
     "start_time": "2024-09-05T10:42:09.725297",
     "status": "completed"
    },
    "tags": []
   },
   "source": [
    "Define the loss function (Entropy Loss)"
   ]
  },
  {
   "cell_type": "code",
   "execution_count": 27,
   "id": "bb8891c7",
   "metadata": {
    "execution": {
     "iopub.execute_input": "2024-09-05T10:42:09.778480Z",
     "iopub.status.busy": "2024-09-05T10:42:09.778202Z",
     "iopub.status.idle": "2024-09-05T10:42:09.783105Z",
     "shell.execute_reply": "2024-09-05T10:42:09.782273Z"
    },
    "papermill": {
     "duration": 0.024897,
     "end_time": "2024-09-05T10:42:09.784935",
     "exception": false,
     "start_time": "2024-09-05T10:42:09.760038",
     "status": "completed"
    },
    "tags": []
   },
   "outputs": [],
   "source": [
    "import torch.optim as optim\n",
    "\n",
    "# Define loss function\n",
    "criterion = nn.CrossEntropyLoss()\n",
    "\n",
    "# Define an optimizer\n",
    "optimizer = optim.SGD(net.parameters(), lr = 0.001, momentum = 0.1) # lr = learning rate"
   ]
  },
  {
   "cell_type": "markdown",
   "id": "b7a16dea",
   "metadata": {
    "papermill": {
     "duration": 0.017201,
     "end_time": "2024-09-05T10:42:09.819454",
     "exception": false,
     "start_time": "2024-09-05T10:42:09.802253",
     "status": "completed"
    },
    "tags": []
   },
   "source": [
    "## **Train the network, and update + optimize the parameters and gradients (weights). Then evaluate and save the best model**"
   ]
  },
  {
   "cell_type": "markdown",
   "id": "931b7dea",
   "metadata": {
    "papermill": {
     "duration": 0.017059,
     "end_time": "2024-09-05T10:42:09.853782",
     "exception": false,
     "start_time": "2024-09-05T10:42:09.836723",
     "status": "completed"
    },
    "tags": []
   },
   "source": [
    "> **Training Step:**"
   ]
  },
  {
   "cell_type": "markdown",
   "id": "52eb7991",
   "metadata": {
    "papermill": {
     "duration": 0.017084,
     "end_time": "2024-09-05T10:42:09.888663",
     "exception": false,
     "start_time": "2024-09-05T10:42:09.871579",
     "status": "completed"
    },
    "tags": []
   },
   "source": [
    "> **Validation Step (Estimation) And Save The Best Model:**"
   ]
  },
  {
   "cell_type": "code",
   "execution_count": 28,
   "id": "dbcd2dad",
   "metadata": {
    "execution": {
     "iopub.execute_input": "2024-09-05T10:42:09.924801Z",
     "iopub.status.busy": "2024-09-05T10:42:09.924071Z",
     "iopub.status.idle": "2024-09-05T10:49:00.051480Z",
     "shell.execute_reply": "2024-09-05T10:49:00.050188Z"
    },
    "papermill": {
     "duration": 410.147639,
     "end_time": "2024-09-05T10:49:00.053641",
     "exception": false,
     "start_time": "2024-09-05T10:42:09.906002",
     "status": "completed"
    },
    "tags": []
   },
   "outputs": [
    {
     "name": "stdout",
     "output_type": "stream",
     "text": [
      "[1, 2000], Loss: 2.3039127601385117\n",
      "[1, 4000], Loss: 2.3022620022296905\n",
      "[1, 6000], Loss: 2.3002959928512574\n",
      "[1, 8000], Loss: 2.29766124856472\n",
      "[1, 10000], Loss: 2.2922755571603775\n",
      "Epoch [1/10],Validation Loss: 1.2288, Validation Accuracy: 9.93%\n",
      "[2, 2000], Loss: 2.269926018834114\n",
      "[2, 4000], Loss: 2.183802249968052\n",
      "[2, 6000], Loss: 2.083462068915367\n",
      "[2, 8000], Loss: 2.0144903454184533\n",
      "[2, 10000], Loss: 1.932838093996048\n",
      "Epoch [2/10],Validation Loss: 1.3874, Validation Accuracy: 10.75%\n",
      "[3, 2000], Loss: 1.865615908831358\n",
      "[3, 4000], Loss: 1.8183391581475734\n",
      "[3, 6000], Loss: 1.7852304913401604\n",
      "[3, 8000], Loss: 1.7476327592134475\n",
      "[3, 10000], Loss: 1.7044673650711775\n",
      "Epoch [3/10],Validation Loss: 1.9069, Validation Accuracy: 9.10%\n",
      "[4, 2000], Loss: 1.6757233299314975\n",
      "[4, 4000], Loss: 1.6529716366827487\n",
      "[4, 6000], Loss: 1.6220375204980373\n",
      "[4, 8000], Loss: 1.6026047129631042\n",
      "[4, 10000], Loss: 1.5834702529013156\n",
      "Epoch [4/10],Validation Loss: 2.1538, Validation Accuracy: 9.25%\n",
      "[5, 2000], Loss: 1.560281809642911\n",
      "[5, 4000], Loss: 1.5340039867162705\n",
      "[5, 6000], Loss: 1.5138066474795342\n",
      "[5, 8000], Loss: 1.487233925923705\n",
      "[5, 10000], Loss: 1.4754145959466696\n",
      "Epoch [5/10],Validation Loss: 2.0177, Validation Accuracy: 10.35%\n",
      "[6, 2000], Loss: 1.4483328871876002\n",
      "[6, 4000], Loss: 1.444489889472723\n",
      "[6, 6000], Loss: 1.4288201349452139\n",
      "[6, 8000], Loss: 1.4442184133976699\n",
      "[6, 10000], Loss: 1.4056990745216609\n",
      "Epoch [6/10],Validation Loss: 2.2849, Validation Accuracy: 10.40%\n",
      "[7, 2000], Loss: 1.3789576299786568\n",
      "[7, 4000], Loss: 1.370570937141776\n",
      "[7, 6000], Loss: 1.3891678340435027\n",
      "[7, 8000], Loss: 1.3812577811926603\n",
      "[7, 10000], Loss: 1.345111900769174\n",
      "Epoch [7/10],Validation Loss: 1.9399, Validation Accuracy: 10.70%\n",
      "[8, 2000], Loss: 1.3300475214794278\n",
      "[8, 4000], Loss: 1.3306054927706719\n",
      "[8, 6000], Loss: 1.3086284196525813\n",
      "[8, 8000], Loss: 1.3188951425030828\n",
      "[8, 10000], Loss: 1.3165779017060995\n",
      "Epoch [8/10],Validation Loss: 1.9598, Validation Accuracy: 10.35%\n",
      "[9, 2000], Loss: 1.2897112312316894\n",
      "[9, 4000], Loss: 1.2746995711401106\n",
      "[9, 6000], Loss: 1.2643629716187716\n",
      "[9, 8000], Loss: 1.270210374854505\n",
      "[9, 10000], Loss: 1.2764477283656597\n",
      "Epoch [9/10],Validation Loss: 1.9983, Validation Accuracy: 10.50%\n",
      "[10, 2000], Loss: 1.2393349317535758\n",
      "[10, 4000], Loss: 1.2364784238450228\n",
      "[10, 6000], Loss: 1.2539659837409853\n",
      "[10, 8000], Loss: 1.2247900553755462\n",
      "[10, 10000], Loss: 1.2162893649041653\n",
      "Epoch [10/10],Validation Loss: 2.6614, Validation Accuracy: 9.65%\n",
      "Finished Training And Estimation Step\n"
     ]
    }
   ],
   "source": [
    "for epoch in range(10):\n",
    "    # Training phase\n",
    "    net.train()  # Set the model to training mode\n",
    "    running_loss = 0.0\n",
    "    # When this for loop ends, we've produced a new model\n",
    "    for i, data in enumerate(trainloader, 0):\n",
    "        inputs, labels = data[0].to(device), data[1].to(device)\n",
    "\n",
    "        optimizer.zero_grad()\n",
    "        \n",
    "        outputs = net(inputs)\n",
    "        \n",
    "        loss = criterion(outputs, labels)\n",
    "        loss.backward()\n",
    "        \n",
    "        optimizer.step()\n",
    "        \n",
    "        running_loss += loss.item()\n",
    "        if i % 2000 == 1999:\n",
    "            print(\"[{}, {}], Loss: {}\".format(epoch + 1, i + 1, running_loss / 2000.))\n",
    "            running_loss = 0.0       \n",
    "    \n",
    "    # With the model created above, we'll evaluate it with validation dataset\n",
    "    # Validation phase\n",
    "    net.eval()  # Set the model to evaluation mode\n",
    "    val_loss = 0.0\n",
    "    correct = 0\n",
    "    total = 0\n",
    "    best_val_accuracy = 0.0 # Save the best accurate model, we save the model at this time\n",
    "\n",
    "    with torch.no_grad(): # Disable gradient calculation, since we do not need to update gradient\n",
    "        for i, val_data in enumerate(valloader, 0):\n",
    "            val_inputs, val_labels = val_data[0].to(device), val_data[1].to(device)     \n",
    "            val_outputs = net(inputs)\n",
    "        \n",
    "            loss = criterion(val_outputs, val_labels)\n",
    "            val_loss += loss.item()\n",
    "        \n",
    "            _, predicted = torch.max(val_outputs.data, 1)\n",
    "            total += val_labels.size(0)\n",
    "            correct += (predicted == val_labels).sum().item()\n",
    "        \n",
    "            val_accuracy = 100 * correct/total\n",
    "                \n",
    "            if i % 1000 == 999:\n",
    "                print(f\"Epoch [{epoch + 1}/10],\"         \n",
    "                      f\"Validation Loss: {val_loss / len(valloader):.4f}, Validation Accuracy: {val_accuracy:.2f}%\")\n",
    "            \n",
    "            if val_accuracy > best_val_accuracy:\n",
    "                torch.save(net.state_dict(), 'model.pth')\n",
    "                best_val_accuracy = val_accuracy\n",
    "\n",
    "print(\"Finished Training And Estimation Step\")"
   ]
  },
  {
   "cell_type": "markdown",
   "id": "ada9156d",
   "metadata": {
    "papermill": {
     "duration": 0.022187,
     "end_time": "2024-09-05T10:49:00.098440",
     "exception": false,
     "start_time": "2024-09-05T10:49:00.076253",
     "status": "completed"
    },
    "tags": []
   },
   "source": [
    "## Test the Model on Testset"
   ]
  },
  {
   "cell_type": "markdown",
   "id": "43c60922",
   "metadata": {
    "papermill": {
     "duration": 0.021724,
     "end_time": "2024-09-05T10:49:00.141958",
     "exception": false,
     "start_time": "2024-09-05T10:49:00.120234",
     "status": "completed"
    },
    "tags": []
   },
   "source": [
    "> **First, we need to call our saved model (model.pth), then use testset input**"
   ]
  },
  {
   "cell_type": "code",
   "execution_count": 29,
   "id": "cad235de",
   "metadata": {
    "execution": {
     "iopub.execute_input": "2024-09-05T10:49:00.187442Z",
     "iopub.status.busy": "2024-09-05T10:49:00.187095Z",
     "iopub.status.idle": "2024-09-05T10:49:28.749275Z",
     "shell.execute_reply": "2024-09-05T10:49:28.748324Z"
    },
    "papermill": {
     "duration": 28.587475,
     "end_time": "2024-09-05T10:49:28.751476",
     "exception": false,
     "start_time": "2024-09-05T10:49:00.164001",
     "status": "completed"
    },
    "tags": []
   },
   "outputs": [
    {
     "name": "stderr",
     "output_type": "stream",
     "text": [
      "/tmp/ipykernel_23/1105027353.py:9: FutureWarning: You are using `torch.load` with `weights_only=False` (the current default value), which uses the default pickle module implicitly. It is possible to construct malicious pickle data which will execute arbitrary code during unpickling (See https://github.com/pytorch/pytorch/blob/main/SECURITY.md#untrusted-models for more details). In a future release, the default value for `weights_only` will be flipped to `True`. This limits the functions that could be executed during unpickling. Arbitrary objects will no longer be allowed to be loaded via this mode unless they are explicitly allowlisted by the user via `torch.serialization.add_safe_globals`. We recommend you start setting `weights_only=True` for any use case where you don't have full control of the loaded file. Please open an issue on GitHub for any issues related to this experimental feature.\n",
      "  net.load_state_dict(torch.load('model.pth'))\n"
     ]
    },
    {
     "name": "stdout",
     "output_type": "stream",
     "text": [
      "Test Loss: 1.2429, Test Accuracy: 55.38%\n"
     ]
    },
    {
     "data": {
      "image/png": "[encoded data removed]",
      "text/plain": [
       "<Figure size 640x480 with 1 Axes>"
      ]
     },
     "metadata": {},
     "output_type": "display_data"
    }
   ],
   "source": [
    "import numpy as np\n",
    "\n",
    "def imshow(img):\n",
    "    img = img / 2 + 0.5     # unnormalize\n",
    "    npimg = img.numpy()\n",
    "    plt.imshow(np.transpose(npimg, (1, 2, 0)))\n",
    "\n",
    "# Load the best model\n",
    "net.load_state_dict(torch.load('model.pth'))\n",
    "net.eval()  # Set the model to evaluation mode\n",
    "\n",
    "# Evaluate on the test set\n",
    "test_loss = 0.0\n",
    "correct = 0\n",
    "total = 0\n",
    "\n",
    "# criterion = torch.nn.CrossEntropyLoss()  # Use the same criterion as training\n",
    "\n",
    "with torch.no_grad():  # Disable gradient calculation\n",
    "    for test_inputs, test_labels in testloader:\n",
    "        test_inputs, test_labels = test_inputs.to(device), test_labels.to(device)\n",
    "        test_outputs = net(test_inputs)  # Forward pass\n",
    "        \n",
    "        loss = criterion(test_outputs, test_labels)  # Calculate test loss\n",
    "        test_loss += loss.item()\n",
    "        \n",
    "        _, predicted = torch.max(test_outputs.data, 1)\n",
    "        \n",
    "        imshow(torchvision.utils.make_grid(images))\n",
    "#         for i in range(4):\n",
    "#             print(\"Actual {}\\tPredicted: {}\".format(classes[labels[i]], classes[predicted[i]]))\n",
    "            \n",
    "        total += test_labels.size(0)\n",
    "        correct += (predicted == test_labels).sum().item()\n",
    "\n",
    "test_accuracy = 100 * correct / total\n",
    "print(f\"Test Loss: {test_loss / len(testloader):.4f}, Test Accuracy: {test_accuracy:.2f}%\")"
   ]
  },
  {
   "cell_type": "markdown",
   "id": "971d9699",
   "metadata": {
    "papermill": {
     "duration": 0.0225,
     "end_time": "2024-09-05T10:49:28.796928",
     "exception": false,
     "start_time": "2024-09-05T10:49:28.774428",
     "status": "completed"
    },
    "tags": []
   },
   "source": [
    "Check the accuracy on the whole dataset"
   ]
  },
  {
   "cell_type": "code",
   "execution_count": 30,
   "id": "85288482",
   "metadata": {
    "execution": {
     "iopub.execute_input": "2024-09-05T10:49:28.843638Z",
     "iopub.status.busy": "2024-09-05T10:49:28.843278Z",
     "iopub.status.idle": "2024-09-05T10:49:34.180792Z",
     "shell.execute_reply": "2024-09-05T10:49:34.179480Z"
    },
    "papermill": {
     "duration": 5.363537,
     "end_time": "2024-09-05T10:49:34.183116",
     "exception": false,
     "start_time": "2024-09-05T10:49:28.819579",
     "status": "completed"
    },
    "tags": []
   },
   "outputs": [
    {
     "name": "stdout",
     "output_type": "stream",
     "text": [
      "Accuracy of the network on the 10000 test images: 55 %\n"
     ]
    }
   ],
   "source": [
    "correct = 0\n",
    "total = 0\n",
    "\n",
    "# Disable to gradients(weights) update\n",
    "with torch.no_grad():\n",
    "    for data in testloader:\n",
    "        images, labels = data\n",
    "        images, labels = images.to(device), labels.to(device)\n",
    "        \n",
    "        outputs = net(images)\n",
    "        _, predicted = torch.max(outputs.data, 1)\n",
    "        total += labels.size(0)\n",
    "        correct += (predicted == labels).sum().item()\n",
    "\n",
    "print('Accuracy of the network on the 10000 test images: %d %%' % (\n",
    "    100 * correct / total))"
   ]
  }
 ],
 "metadata": {
  "kaggle": {
   "accelerator": "nvidiaTeslaT4",
   "dataSources": [],
   "isGpuEnabled": true,
   "isInternetEnabled": true,
   "language": "python",
   "sourceType": "notebook"
  },
  "kernelspec": {
   "display_name": "Python 3",
   "language": "python",
   "name": "python3"
  },
  "language_info": {
   "codemirror_mode": {
    "name": "ipython",
    "version": 3
   },
   "file_extension": ".py",
   "mimetype": "text/x-python",
   "name": "python",
   "nbconvert_exporter": "python",
   "pygments_lexer": "ipython3",
   "version": "3.10.14"
  },
  "papermill": {
   "default_parameters": {},
   "duration": 472.213074,
   "end_time": "2024-09-05T10:49:36.927384",
   "environment_variables": {},
   "exception": null,
   "input_path": "__notebook__.ipynb",
   "output_path": "__notebook__.ipynb",
   "parameters": {},
   "start_time": "2024-09-05T10:41:44.714310",
   "version": "2.6.0"
  }
 },
 "nbformat": 4,
 "nbformat_minor": 5
}
