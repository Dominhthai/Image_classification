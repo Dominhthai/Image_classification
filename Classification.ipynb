{
 "cells": [
  {
   "cell_type": "code",
   "execution_count": 1,
   "id": "dffc62ea",
   "metadata": {
    "_cell_guid": "b1076dfc-b9ad-4769-8c92-a6c4dae69d19",
    "_uuid": "8f2839f25d086af736a60e9eeb907d3b93b6e0e5",
    "execution": {
     "iopub.execute_input": "2024-09-05T04:48:12.294067Z",
     "iopub.status.busy": "2024-09-05T04:48:12.293578Z",
     "iopub.status.idle": "2024-09-05T04:48:12.743964Z",
     "shell.execute_reply": "2024-09-05T04:48:12.742649Z"
    },
    "papermill": {
     "duration": 0.468942,
     "end_time": "2024-09-05T04:48:12.746715",
     "exception": false,
     "start_time": "2024-09-05T04:48:12.277773",
     "status": "completed"
    },
    "tags": []
   },
   "outputs": [],
   "source": [
    "# This Python 3 environment comes with many helpful analytics libraries installed\n",
    "# It is defined by the kaggle/python Docker image: https://github.com/kaggle/docker-python\n",
    "# For example, here's several helpful packages to load\n",
    "\n",
    "import numpy as np # linear algebra\n",
    "import pandas as pd # data processing, CSV file I/O (e.g. pd.read_csv)\n",
    "\n",
    "# Input data files are available in the read-only \"../input/\" directory\n",
    "# For example, running this (by clicking run or pressing Shift+Enter) will list all files under the input directory\n",
    "\n",
    "import os\n",
    "for dirname, _, filenames in os.walk('/kaggle/input'):\n",
    "    for filename in filenames:\n",
    "        print(os.path.join(dirname, filename))\n",
    "\n",
    "# You can write up to 20GB to the current directory (/kaggle/working/) that gets preserved as output when you create a version using \"Save & Run All\" \n",
    "# You can also write temporary files to /kaggle/temp/, but they won't be saved outside of the current session"
   ]
  },
  {
   "cell_type": "code",
   "execution_count": 2,
   "id": "cdd30ade",
   "metadata": {
    "execution": {
     "iopub.execute_input": "2024-09-05T04:48:12.775770Z",
     "iopub.status.busy": "2024-09-05T04:48:12.775155Z",
     "iopub.status.idle": "2024-09-05T04:48:15.961098Z",
     "shell.execute_reply": "2024-09-05T04:48:15.959744Z"
    },
    "papermill": {
     "duration": 3.204223,
     "end_time": "2024-09-05T04:48:15.964230",
     "exception": false,
     "start_time": "2024-09-05T04:48:12.760007",
     "status": "completed"
    },
    "tags": []
   },
   "outputs": [],
   "source": [
    "import torch"
   ]
  },
  {
   "cell_type": "code",
   "execution_count": 3,
   "id": "250444b4",
   "metadata": {
    "execution": {
     "iopub.execute_input": "2024-09-05T04:48:15.992714Z",
     "iopub.status.busy": "2024-09-05T04:48:15.992057Z",
     "iopub.status.idle": "2024-09-05T04:48:16.131188Z",
     "shell.execute_reply": "2024-09-05T04:48:16.130034Z"
    },
    "papermill": {
     "duration": 0.156485,
     "end_time": "2024-09-05T04:48:16.133920",
     "exception": false,
     "start_time": "2024-09-05T04:48:15.977435",
     "status": "completed"
    },
    "tags": []
   },
   "outputs": [],
   "source": [
    "x = torch.randn(6, 7, dtype = torch.float)\n",
    "y = torch.randn(6, 7, dtype = torch.float)"
   ]
  },
  {
   "cell_type": "code",
   "execution_count": 4,
   "id": "d45c93fc",
   "metadata": {
    "execution": {
     "iopub.execute_input": "2024-09-05T04:48:16.162313Z",
     "iopub.status.busy": "2024-09-05T04:48:16.161813Z",
     "iopub.status.idle": "2024-09-05T04:48:16.260800Z",
     "shell.execute_reply": "2024-09-05T04:48:16.259135Z"
    },
    "papermill": {
     "duration": 0.116773,
     "end_time": "2024-09-05T04:48:16.263975",
     "exception": false,
     "start_time": "2024-09-05T04:48:16.147202",
     "status": "completed"
    },
    "tags": []
   },
   "outputs": [
    {
     "name": "stdout",
     "output_type": "stream",
     "text": [
      "tensor([[-4.1866e-01,  1.3346e+00, -7.3747e-02, -5.8577e-01,  3.3541e-01,\n",
      "         -9.8631e-01, -7.1388e-01],\n",
      "        [ 3.6093e-02,  8.0689e-01, -2.0931e-01, -1.0970e+00,  1.9248e-02,\n",
      "         -3.8376e-01,  2.0628e+00],\n",
      "        [-2.9548e-01, -5.4445e-01,  4.1897e-01,  7.4754e-01,  3.8808e+00,\n",
      "         -6.4915e-02, -5.4101e-01],\n",
      "        [ 6.7510e-01, -3.6473e-02, -4.6273e-01,  7.3074e-01, -1.7244e+00,\n",
      "         -2.2319e+00, -3.2817e-01],\n",
      "        [-1.4385e-01,  3.5532e-01,  5.1572e-01, -7.2470e-01, -2.0139e-03,\n",
      "          6.3078e-01, -1.5774e-01],\n",
      "        [-8.8255e-01,  2.7029e-01,  5.0098e-01,  1.5704e+00, -6.6948e-01,\n",
      "          1.2686e+00, -6.6216e-02]])\n",
      "tensor([[-1.7443, -0.4690, -1.5717, -0.8386,  1.2316,  1.0191,  0.3684],\n",
      "        [-0.8839,  0.4489, -0.6099,  1.2029, -2.3850,  2.7222,  0.1135],\n",
      "        [-0.4244,  0.1070, -0.5118, -0.4130, -1.3609, -0.5116, -0.4468],\n",
      "        [-0.8416,  0.3624,  3.0600,  0.4032,  0.1329,  1.8450, -1.3009],\n",
      "        [ 0.0608,  0.6269, -1.2274,  0.0536,  0.8010,  1.2779,  0.6867],\n",
      "        [-0.3207,  1.4704,  0.0619, -0.3776, -1.2767,  2.1629,  1.3420]])\n"
     ]
    }
   ],
   "source": [
    "print(x)\n",
    "print(y)"
   ]
  },
  {
   "cell_type": "code",
   "execution_count": 5,
   "id": "8d7f1086",
   "metadata": {
    "execution": {
     "iopub.execute_input": "2024-09-05T04:48:16.294299Z",
     "iopub.status.busy": "2024-09-05T04:48:16.293789Z",
     "iopub.status.idle": "2024-09-05T04:48:16.306219Z",
     "shell.execute_reply": "2024-09-05T04:48:16.304938Z"
    },
    "papermill": {
     "duration": 0.031284,
     "end_time": "2024-09-05T04:48:16.308981",
     "exception": false,
     "start_time": "2024-09-05T04:48:16.277697",
     "status": "completed"
    },
    "tags": []
   },
   "outputs": [
    {
     "name": "stdout",
     "output_type": "stream",
     "text": [
      "tensor([[-2.1630,  0.8656, -1.6454, -1.4244,  1.5670,  0.0327, -0.3455],\n",
      "        [-0.8478,  1.2558, -0.8192,  0.1059, -2.3658,  2.3384,  2.1763],\n",
      "        [-0.7199, -0.4375, -0.0928,  0.3345,  2.5199, -0.5765, -0.9878],\n",
      "        [-0.1665,  0.3259,  2.5972,  1.1340, -1.5915, -0.3869, -1.6290],\n",
      "        [-0.0830,  0.9822, -0.7117, -0.6711,  0.7990,  1.9087,  0.5290],\n",
      "        [-1.2033,  1.7407,  0.5629,  1.1928, -1.9462,  3.4315,  1.2758]])\n"
     ]
    }
   ],
   "source": [
    "result = torch.randn(6, 7, dtype = torch.float)\n",
    "torch.add(x, y, out=result)\n",
    "print(result)"
   ]
  },
  {
   "cell_type": "code",
   "execution_count": 6,
   "id": "57a9c16c",
   "metadata": {
    "execution": {
     "iopub.execute_input": "2024-09-05T04:48:16.340203Z",
     "iopub.status.busy": "2024-09-05T04:48:16.339750Z",
     "iopub.status.idle": "2024-09-05T04:48:16.353776Z",
     "shell.execute_reply": "2024-09-05T04:48:16.352297Z"
    },
    "papermill": {
     "duration": 0.03313,
     "end_time": "2024-09-05T04:48:16.356344",
     "exception": false,
     "start_time": "2024-09-05T04:48:16.323214",
     "status": "completed"
    },
    "tags": []
   },
   "outputs": [
    {
     "name": "stdout",
     "output_type": "stream",
     "text": [
      "tensor([ 0.8656,  1.2558, -0.4375,  0.3259,  0.9822,  1.7407])\n"
     ]
    }
   ],
   "source": [
    "print(result[:, 1])"
   ]
  },
  {
   "cell_type": "code",
   "execution_count": 7,
   "id": "9fa7edbf",
   "metadata": {
    "execution": {
     "iopub.execute_input": "2024-09-05T04:48:16.385161Z",
     "iopub.status.busy": "2024-09-05T04:48:16.384735Z",
     "iopub.status.idle": "2024-09-05T04:48:16.393278Z",
     "shell.execute_reply": "2024-09-05T04:48:16.391937Z"
    },
    "papermill": {
     "duration": 0.026093,
     "end_time": "2024-09-05T04:48:16.395832",
     "exception": false,
     "start_time": "2024-09-05T04:48:16.369739",
     "status": "completed"
    },
    "tags": []
   },
   "outputs": [
    {
     "data": {
      "text/plain": [
       "torch.Size([6, 7])"
      ]
     },
     "execution_count": 7,
     "metadata": {},
     "output_type": "execute_result"
    }
   ],
   "source": [
    "result.size()"
   ]
  },
  {
   "cell_type": "code",
   "execution_count": 8,
   "id": "2eb781cc",
   "metadata": {
    "execution": {
     "iopub.execute_input": "2024-09-05T04:48:16.427059Z",
     "iopub.status.busy": "2024-09-05T04:48:16.426579Z",
     "iopub.status.idle": "2024-09-05T04:48:16.436542Z",
     "shell.execute_reply": "2024-09-05T04:48:16.435345Z"
    },
    "papermill": {
     "duration": 0.029174,
     "end_time": "2024-09-05T04:48:16.439189",
     "exception": false,
     "start_time": "2024-09-05T04:48:16.410015",
     "status": "completed"
    },
    "tags": []
   },
   "outputs": [
    {
     "data": {
      "text/plain": [
       "tensor([[[-2.1630,  0.8656, -1.6454],\n",
       "         [-1.4244,  1.5670,  0.0327]],\n",
       "\n",
       "        [[-0.3455, -0.8478,  1.2558],\n",
       "         [-0.8192,  0.1059, -2.3658]],\n",
       "\n",
       "        [[ 2.3384,  2.1763, -0.7199],\n",
       "         [-0.4375, -0.0928,  0.3345]],\n",
       "\n",
       "        [[ 2.5199, -0.5765, -0.9878],\n",
       "         [-0.1665,  0.3259,  2.5972]],\n",
       "\n",
       "        [[ 1.1340, -1.5915, -0.3869],\n",
       "         [-1.6290, -0.0830,  0.9822]],\n",
       "\n",
       "        [[-0.7117, -0.6711,  0.7990],\n",
       "         [ 1.9087,  0.5290, -1.2033]],\n",
       "\n",
       "        [[ 1.7407,  0.5629,  1.1928],\n",
       "         [-1.9462,  3.4315,  1.2758]]])"
      ]
     },
     "execution_count": 8,
     "metadata": {},
     "output_type": "execute_result"
    }
   ],
   "source": [
    "a = result.view(-1, 2, 3)\n",
    "a"
   ]
  },
  {
   "cell_type": "code",
   "execution_count": 9,
   "id": "785b2bb9",
   "metadata": {
    "execution": {
     "iopub.execute_input": "2024-09-05T04:48:16.468698Z",
     "iopub.status.busy": "2024-09-05T04:48:16.468233Z",
     "iopub.status.idle": "2024-09-05T04:48:16.476349Z",
     "shell.execute_reply": "2024-09-05T04:48:16.475155Z"
    },
    "papermill": {
     "duration": 0.026436,
     "end_time": "2024-09-05T04:48:16.479232",
     "exception": false,
     "start_time": "2024-09-05T04:48:16.452796",
     "status": "completed"
    },
    "tags": []
   },
   "outputs": [
    {
     "name": "stdout",
     "output_type": "stream",
     "text": [
      "[[[-2.1629696   0.86556804 -1.6454397 ]\n",
      "  [-1.4244173   1.5669832   0.03274167]]\n",
      "\n",
      " [[-0.345466   -0.84783417  1.2557815 ]\n",
      "  [-0.8191746   0.10588801 -2.365797  ]]\n",
      "\n",
      " [[ 2.3384209   2.1763256  -0.71989876]\n",
      "  [-0.4374773  -0.09284908  0.33449206]]\n",
      "\n",
      " [[ 2.5198665  -0.5765488  -0.9878442 ]\n",
      "  [-0.16646636  0.32592857  2.5972278 ]]\n",
      "\n",
      " [[ 1.1339653  -1.591482   -0.38685536]\n",
      "  [-1.6290394  -0.08301201  0.9821913 ]]\n",
      "\n",
      " [[-0.71170413 -0.67110413  0.79903024]\n",
      "  [ 1.9086843   0.5290032  -1.2032987 ]]\n",
      "\n",
      " [[ 1.7406526   0.56287086  1.1928303 ]\n",
      "  [-1.9461806   3.431499    1.2757696 ]]]\n"
     ]
    }
   ],
   "source": [
    "print(a.numpy())"
   ]
  },
  {
   "cell_type": "code",
   "execution_count": 10,
   "id": "83172b7e",
   "metadata": {
    "execution": {
     "iopub.execute_input": "2024-09-05T04:48:16.510106Z",
     "iopub.status.busy": "2024-09-05T04:48:16.509641Z",
     "iopub.status.idle": "2024-09-05T04:48:16.519051Z",
     "shell.execute_reply": "2024-09-05T04:48:16.517879Z"
    },
    "papermill": {
     "duration": 0.028028,
     "end_time": "2024-09-05T04:48:16.521589",
     "exception": false,
     "start_time": "2024-09-05T04:48:16.493561",
     "status": "completed"
    },
    "tags": []
   },
   "outputs": [
    {
     "data": {
      "text/plain": [
       "tensor([[-1.7443, -0.4690, -1.5717, -0.8386,  1.2316,  1.0191,  0.3684],\n",
       "        [-0.8839,  0.4489, -0.6099,  1.2029, -2.3850,  2.7222,  0.1135],\n",
       "        [-0.4244,  0.1070, -0.5118, -0.4130, -1.3609, -0.5116, -0.4468],\n",
       "        [-0.8416,  0.3624,  3.0600,  0.4032,  0.1329,  1.8450, -1.3009],\n",
       "        [ 0.0608,  0.6269, -1.2274,  0.0536,  0.8010,  1.2779,  0.6867],\n",
       "        [-0.3207,  1.4704,  0.0619, -0.3776, -1.2767,  2.1629,  1.3420]],\n",
       "       requires_grad=True)"
      ]
     },
     "execution_count": 10,
     "metadata": {},
     "output_type": "execute_result"
    }
   ],
   "source": [
    "x.requires_grad_()\n",
    "y.requires_grad_()\n",
    "x\n",
    "y"
   ]
  },
  {
   "cell_type": "code",
   "execution_count": 11,
   "id": "db69e583",
   "metadata": {
    "execution": {
     "iopub.execute_input": "2024-09-05T04:48:16.551327Z",
     "iopub.status.busy": "2024-09-05T04:48:16.550825Z",
     "iopub.status.idle": "2024-09-05T04:48:16.561741Z",
     "shell.execute_reply": "2024-09-05T04:48:16.560523Z"
    },
    "papermill": {
     "duration": 0.028901,
     "end_time": "2024-09-05T04:48:16.564385",
     "exception": false,
     "start_time": "2024-09-05T04:48:16.535484",
     "status": "completed"
    },
    "tags": []
   },
   "outputs": [
    {
     "data": {
      "text/plain": [
       "tensor([[ 0.2557,  1.5310,  0.4283,  1.1614,  3.2316,  3.0191,  2.3684],\n",
       "        [ 1.1161,  2.4489,  1.3901,  3.2029, -0.3850,  4.7222,  2.1135],\n",
       "        [ 1.5756,  2.1070,  1.4882,  1.5870,  0.6391,  1.4884,  1.5532],\n",
       "        [ 1.1584,  2.3624,  5.0600,  2.4032,  2.1329,  3.8450,  0.6991],\n",
       "        [ 2.0608,  2.6269,  0.7726,  2.0536,  2.8010,  3.2779,  2.6867],\n",
       "        [ 1.6793,  3.4704,  2.0619,  1.6224,  0.7233,  4.1629,  3.3420]],\n",
       "       grad_fn=<AddBackward0>)"
      ]
     },
     "execution_count": 11,
     "metadata": {},
     "output_type": "execute_result"
    }
   ],
   "source": [
    "b = y + 2\n",
    "b"
   ]
  },
  {
   "cell_type": "code",
   "execution_count": 12,
   "id": "22b9e95e",
   "metadata": {
    "execution": {
     "iopub.execute_input": "2024-09-05T04:48:16.594997Z",
     "iopub.status.busy": "2024-09-05T04:48:16.594529Z",
     "iopub.status.idle": "2024-09-05T04:48:16.606523Z",
     "shell.execute_reply": "2024-09-05T04:48:16.605311Z"
    },
    "papermill": {
     "duration": 0.031502,
     "end_time": "2024-09-05T04:48:16.610366",
     "exception": false,
     "start_time": "2024-09-05T04:48:16.578864",
     "status": "completed"
    },
    "tags": []
   },
   "outputs": [
    {
     "data": {
      "text/plain": [
       "tensor([[1., 1., 1.],\n",
       "        [1., 1., 1.]], requires_grad=True)"
      ]
     },
     "execution_count": 12,
     "metadata": {},
     "output_type": "execute_result"
    }
   ],
   "source": [
    "x = torch.ones(2, 3, requires_grad = True)\n",
    "x"
   ]
  },
  {
   "cell_type": "code",
   "execution_count": 13,
   "id": "c9591d2e",
   "metadata": {
    "execution": {
     "iopub.execute_input": "2024-09-05T04:48:16.640616Z",
     "iopub.status.busy": "2024-09-05T04:48:16.640151Z",
     "iopub.status.idle": "2024-09-05T04:48:16.649656Z",
     "shell.execute_reply": "2024-09-05T04:48:16.648171Z"
    },
    "papermill": {
     "duration": 0.027971,
     "end_time": "2024-09-05T04:48:16.652486",
     "exception": false,
     "start_time": "2024-09-05T04:48:16.624515",
     "status": "completed"
    },
    "tags": []
   },
   "outputs": [
    {
     "data": {
      "text/plain": [
       "tensor([[6., 6., 6.],\n",
       "        [6., 6., 6.]], grad_fn=<AddBackward0>)"
      ]
     },
     "execution_count": 13,
     "metadata": {},
     "output_type": "execute_result"
    }
   ],
   "source": [
    "y = x + 5\n",
    "y"
   ]
  },
  {
   "cell_type": "code",
   "execution_count": 14,
   "id": "1c674ef8",
   "metadata": {
    "execution": {
     "iopub.execute_input": "2024-09-05T04:48:16.684801Z",
     "iopub.status.busy": "2024-09-05T04:48:16.683689Z",
     "iopub.status.idle": "2024-09-05T04:48:16.694308Z",
     "shell.execute_reply": "2024-09-05T04:48:16.692938Z"
    },
    "papermill": {
     "duration": 0.029564,
     "end_time": "2024-09-05T04:48:16.697079",
     "exception": false,
     "start_time": "2024-09-05T04:48:16.667515",
     "status": "completed"
    },
    "tags": []
   },
   "outputs": [
    {
     "name": "stdout",
     "output_type": "stream",
     "text": [
      "tensor([[108., 108., 108.],\n",
      "        [108., 108., 108.]], grad_fn=<MulBackward0>)\n",
      "tensor(108., grad_fn=<MeanBackward0>)\n"
     ]
    }
   ],
   "source": [
    "z = y * y * 3\n",
    "out = z.mean()\n",
    "print(z)\n",
    "print(out)"
   ]
  },
  {
   "cell_type": "code",
   "execution_count": 15,
   "id": "a32513f1",
   "metadata": {
    "execution": {
     "iopub.execute_input": "2024-09-05T04:48:16.728408Z",
     "iopub.status.busy": "2024-09-05T04:48:16.727633Z",
     "iopub.status.idle": "2024-09-05T04:48:16.741681Z",
     "shell.execute_reply": "2024-09-05T04:48:16.740516Z"
    },
    "papermill": {
     "duration": 0.032699,
     "end_time": "2024-09-05T04:48:16.744505",
     "exception": false,
     "start_time": "2024-09-05T04:48:16.711806",
     "status": "completed"
    },
    "tags": []
   },
   "outputs": [],
   "source": [
    "# Compute the backward\n",
    "out.backward()"
   ]
  },
  {
   "cell_type": "code",
   "execution_count": 16,
   "id": "26790591",
   "metadata": {
    "execution": {
     "iopub.execute_input": "2024-09-05T04:48:16.774985Z",
     "iopub.status.busy": "2024-09-05T04:48:16.774544Z",
     "iopub.status.idle": "2024-09-05T04:48:16.783383Z",
     "shell.execute_reply": "2024-09-05T04:48:16.782170Z"
    },
    "papermill": {
     "duration": 0.027184,
     "end_time": "2024-09-05T04:48:16.785893",
     "exception": false,
     "start_time": "2024-09-05T04:48:16.758709",
     "status": "completed"
    },
    "tags": []
   },
   "outputs": [
    {
     "data": {
      "text/plain": [
       "tensor([[6., 6., 6.],\n",
       "        [6., 6., 6.]])"
      ]
     },
     "execution_count": 16,
     "metadata": {},
     "output_type": "execute_result"
    }
   ],
   "source": [
    "x.grad"
   ]
  },
  {
   "cell_type": "markdown",
   "id": "497e5493",
   "metadata": {
    "papermill": {
     "duration": 0.014319,
     "end_time": "2024-09-05T04:48:16.816637",
     "exception": false,
     "start_time": "2024-09-05T04:48:16.802318",
     "status": "completed"
    },
    "tags": []
   },
   "source": [
    "Simple Neural Network"
   ]
  },
  {
   "cell_type": "code",
   "execution_count": 17,
   "id": "8d1ddf7d",
   "metadata": {
    "execution": {
     "iopub.execute_input": "2024-09-05T04:48:16.848474Z",
     "iopub.status.busy": "2024-09-05T04:48:16.848017Z",
     "iopub.status.idle": "2024-09-05T04:48:16.861126Z",
     "shell.execute_reply": "2024-09-05T04:48:16.859945Z"
    },
    "papermill": {
     "duration": 0.031501,
     "end_time": "2024-09-05T04:48:16.863738",
     "exception": false,
     "start_time": "2024-09-05T04:48:16.832237",
     "status": "completed"
    },
    "tags": []
   },
   "outputs": [],
   "source": [
    "import torch\n",
    "import torch.nn as nn\n",
    "import torch.nn.functional as F\n",
    "\n",
    "class Net(nn.Module):\n",
    "    def __init__(self):\n",
    "        super(Net, self).__init__()\n",
    "        # DEINFE ALL THE LAYERS OF NETWORK\n",
    "        \n",
    "        # Define the flate\n",
    "        self.flatten = nn.Flatten()\n",
    "        \n",
    "        # Define convolution (hidden) layers\n",
    "        self.conv1 = nn.Conv2d(1, 6, 5) # input_channel(nodes)=1; output_channel(nodes)=6; kernel_size = 5.\n",
    "        self.conv2 = nn.Conv2d(6, 16, 5)\n",
    "        \n",
    "        # Define Fully-connected Layers\n",
    "        self.fc1 = nn.Linear(16*5*5, 120) # input node=16*5*5 since we have 16 nodes, each node is a 5*5, output node-120\n",
    "        \n",
    "        # At these steps, we're gonna reduce size of the output\n",
    "        # Each reduction layer, we reduce to half\n",
    "        # Note: Too many layers can cause to vanishing gradient\n",
    "        self.fc2 = nn.Linear(120, 84)\n",
    "        self.fc3 = nn.Linear(84, 40)\n",
    "        self.fc4 = nn.Linear(40, 10)\n",
    "        \n",
    "    def forward(self, x):\n",
    "        \"\"\"This method defines the forward pass of the neural network\"\"\"\n",
    "        x = F.max_pool2d(F.relu(self.conv1(x)), (2, 2)) # The first convolutional layer with all the max pooling and relu layers: there is a 2X2 max pooling\n",
    "        x = F.max_pool2d(F.relu(self.conv2(x)), 2) # The second conv layer: 2 X 2 max pooling\n",
    "        x = self.flatten(x)# The reshape (flattening) layer which changes the shape of the tensor from that of a multichannel 2D tensor to a 1D tensor\n",
    "        x = F.relu(self.fc1(x)) # Fully connected layer with activation\n",
    "        x = F.relu(self.fc2(x)) # Fully connected layer with activation\n",
    "        x = F.relu(self.fc3(x))\n",
    "        x = self.fc4(x) # Output layer\n",
    "        \n",
    "        return x\n",
    "    "
   ]
  },
  {
   "cell_type": "code",
   "execution_count": 18,
   "id": "c9856ca2",
   "metadata": {
    "execution": {
     "iopub.execute_input": "2024-09-05T04:48:16.895799Z",
     "iopub.status.busy": "2024-09-05T04:48:16.895392Z",
     "iopub.status.idle": "2024-09-05T04:48:16.903510Z",
     "shell.execute_reply": "2024-09-05T04:48:16.902079Z"
    },
    "papermill": {
     "duration": 0.027528,
     "end_time": "2024-09-05T04:48:16.906014",
     "exception": false,
     "start_time": "2024-09-05T04:48:16.878486",
     "status": "completed"
    },
    "tags": []
   },
   "outputs": [
    {
     "data": {
      "text/plain": [
       "device(type='cpu')"
      ]
     },
     "execution_count": 18,
     "metadata": {},
     "output_type": "execute_result"
    }
   ],
   "source": [
    "# Define GPU to compute\n",
    "device = torch.device(\"cuda:0\" if torch.cuda.is_available() else \"cpu\") # device object\n",
    "device"
   ]
  },
  {
   "cell_type": "code",
   "execution_count": 19,
   "id": "5ccb156f",
   "metadata": {
    "execution": {
     "iopub.execute_input": "2024-09-05T04:48:16.940828Z",
     "iopub.status.busy": "2024-09-05T04:48:16.940254Z",
     "iopub.status.idle": "2024-09-05T04:48:16.952216Z",
     "shell.execute_reply": "2024-09-05T04:48:16.951017Z"
    },
    "papermill": {
     "duration": 0.031542,
     "end_time": "2024-09-05T04:48:16.954970",
     "exception": false,
     "start_time": "2024-09-05T04:48:16.923428",
     "status": "completed"
    },
    "tags": []
   },
   "outputs": [
    {
     "name": "stdout",
     "output_type": "stream",
     "text": [
      "Net(\n",
      "  (flatten): Flatten(start_dim=1, end_dim=-1)\n",
      "  (conv1): Conv2d(1, 6, kernel_size=(5, 5), stride=(1, 1))\n",
      "  (conv2): Conv2d(6, 16, kernel_size=(5, 5), stride=(1, 1))\n",
      "  (fc1): Linear(in_features=400, out_features=120, bias=True)\n",
      "  (fc2): Linear(in_features=120, out_features=84, bias=True)\n",
      "  (fc3): Linear(in_features=84, out_features=40, bias=True)\n",
      "  (fc4): Linear(in_features=40, out_features=10, bias=True)\n",
      ")\n"
     ]
    }
   ],
   "source": [
    "# create an instance of Net, and move it to the device\n",
    "model = Net().to(device)\n",
    "# Print structure (in forward())\n",
    "print(model)"
   ]
  },
  {
   "cell_type": "code",
   "execution_count": 20,
   "id": "75f15feb",
   "metadata": {
    "execution": {
     "iopub.execute_input": "2024-09-05T04:48:16.986792Z",
     "iopub.status.busy": "2024-09-05T04:48:16.986331Z",
     "iopub.status.idle": "2024-09-05T04:48:16.993474Z",
     "shell.execute_reply": "2024-09-05T04:48:16.992371Z"
    },
    "papermill": {
     "duration": 0.025793,
     "end_time": "2024-09-05T04:48:16.996025",
     "exception": false,
     "start_time": "2024-09-05T04:48:16.970232",
     "status": "completed"
    },
    "tags": []
   },
   "outputs": [
    {
     "name": "stdout",
     "output_type": "stream",
     "text": [
      "12\n",
      "torch.Size([6, 1, 5, 5])\n",
      "torch.Size([6])\n",
      "torch.Size([16, 6, 5, 5])\n",
      "torch.Size([16])\n",
      "torch.Size([120, 400])\n",
      "torch.Size([120])\n",
      "torch.Size([84, 120])\n",
      "torch.Size([84])\n",
      "torch.Size([40, 84])\n",
      "torch.Size([40])\n",
      "torch.Size([10, 40])\n",
      "torch.Size([10])\n"
     ]
    }
   ],
   "source": [
    "# The learnable parameters of the network can be returned using the net.parameters() function\n",
    "params = list(model.parameters())\n",
    "print(len(params))\n",
    "for i in range(len(params)):\n",
    "    print(params[i].size())"
   ]
  },
  {
   "cell_type": "markdown",
   "id": "a9c18d8a",
   "metadata": {
    "papermill": {
     "duration": 0.014459,
     "end_time": "2024-09-05T04:48:17.025454",
     "exception": false,
     "start_time": "2024-09-05T04:48:17.010995",
     "status": "completed"
    },
    "tags": []
   },
   "source": [
    "# ***Now let's train a model***"
   ]
  },
  {
   "cell_type": "markdown",
   "id": "d299b263",
   "metadata": {
    "papermill": {
     "duration": 0.016031,
     "end_time": "2024-09-05T04:48:17.056306",
     "exception": false,
     "start_time": "2024-09-05T04:48:17.040275",
     "status": "completed"
    },
    "tags": []
   },
   "source": [
    "## Training an actual classifier model"
   ]
  },
  {
   "cell_type": "code",
   "execution_count": 21,
   "id": "45f46d3a",
   "metadata": {
    "execution": {
     "iopub.execute_input": "2024-09-05T04:48:17.088648Z",
     "iopub.status.busy": "2024-09-05T04:48:17.088213Z",
     "iopub.status.idle": "2024-09-05T04:48:19.051228Z",
     "shell.execute_reply": "2024-09-05T04:48:19.050037Z"
    },
    "papermill": {
     "duration": 1.982378,
     "end_time": "2024-09-05T04:48:19.054004",
     "exception": false,
     "start_time": "2024-09-05T04:48:17.071626",
     "status": "completed"
    },
    "tags": []
   },
   "outputs": [],
   "source": [
    "import torch\n",
    "import torchvision\n",
    "import torchvision.transforms as transforms"
   ]
  },
  {
   "cell_type": "markdown",
   "id": "7bf8e970",
   "metadata": {
    "papermill": {
     "duration": 0.014559,
     "end_time": "2024-09-05T04:48:19.083600",
     "exception": false,
     "start_time": "2024-09-05T04:48:19.069041",
     "status": "completed"
    },
    "tags": []
   },
   "source": [
    "> *We will use the CIFAR 10 dataset which comes preloaded in the torchvision package. It has the classes: ‘airplane’, ‘automobile’, ‘bird’, ‘cat’, ‘deer’, ‘dog’, ‘frog’, ‘horse’, ‘ship’, ‘truck’. The images in CIFAR-10 are of size 3x32x32, i.e. 3-channel color images of 32x32 pixels in size.*\n"
   ]
  },
  {
   "cell_type": "markdown",
   "id": "e774cf2d",
   "metadata": {
    "papermill": {
     "duration": 0.014611,
     "end_time": "2024-09-05T04:48:19.112990",
     "exception": false,
     "start_time": "2024-09-05T04:48:19.098379",
     "status": "completed"
    },
    "tags": []
   },
   "source": [
    "1. Import important library"
   ]
  },
  {
   "cell_type": "code",
   "execution_count": 22,
   "id": "3fe1b4aa",
   "metadata": {
    "execution": {
     "iopub.execute_input": "2024-09-05T04:48:19.144712Z",
     "iopub.status.busy": "2024-09-05T04:48:19.144110Z",
     "iopub.status.idle": "2024-09-05T04:48:24.991068Z",
     "shell.execute_reply": "2024-09-05T04:48:24.989902Z"
    },
    "papermill": {
     "duration": 5.86581,
     "end_time": "2024-09-05T04:48:24.993762",
     "exception": false,
     "start_time": "2024-09-05T04:48:19.127952",
     "status": "completed"
    },
    "tags": []
   },
   "outputs": [
    {
     "name": "stdout",
     "output_type": "stream",
     "text": [
      "Downloading https://www.cs.toronto.edu/~kriz/cifar-10-python.tar.gz to ./data/cifar-10-python.tar.gz\n"
     ]
    },
    {
     "name": "stderr",
     "output_type": "stream",
     "text": [
      "100%|██████████| 170498071/170498071 [00:01<00:00, 93863214.53it/s] \n"
     ]
    },
    {
     "name": "stdout",
     "output_type": "stream",
     "text": [
      "Extracting ./data/cifar-10-python.tar.gz to ./data\n",
      "Files already downloaded and verified\n"
     ]
    }
   ],
   "source": [
    "# We define the dataset as tensors, and normalize the data (so that their input values will be like probability, and the classes will not exceed\n",
    "# too much compared to each other\n",
    "transform = transforms.Compose([transforms.ToTensor(), transforms.Normalize((0.5, 0.5, 0.5), (0.5, 0.5, 0.5))])\n",
    "\n",
    "full_trainset = torchvision.datasets.CIFAR10(root='./data', train=True, download=True, transform=transform)\n",
    "\n",
    "# Split the dataset into training and validation sets\n",
    "train_size = int(0.8 * len(full_trainset))  # 80% for training\n",
    "val_size = len(full_trainset) - train_size   # 20% for validation\n",
    "trainset, valset = torch.utils.data.random_split(full_trainset, [train_size, val_size])\n",
    "\n",
    "# Load the train and validaition dataset\n",
    "trainloader = torch.utils.data.DataLoader(trainset, batch_size=4, shuffle=True, num_workers=2)\n",
    "valloader = torch.utils.data.DataLoader(valset, batch_size=4, shuffle=True, num_workers=2)\n",
    "\n",
    "# Similar to test dataset\n",
    "testset = torchvision.datasets.CIFAR10(root=\"./data\", train = False, download=True, transform=transform)\n",
    "\n",
    "testloader = torch.utils.data.DataLoader(testset, batch_size = 4, shuffle=False, num_workers=2)\n",
    "\n",
    "classes = ('plane', 'car', 'bird', 'cat', 'deer', 'dog', 'frog', 'horse', 'ship', 'truck')"
   ]
  },
  {
   "cell_type": "markdown",
   "id": "43814635",
   "metadata": {
    "papermill": {
     "duration": 0.016539,
     "end_time": "2024-09-05T04:48:25.027438",
     "exception": false,
     "start_time": "2024-09-05T04:48:25.010899",
     "status": "completed"
    },
    "tags": []
   },
   "source": [
    "We show some of pictures"
   ]
  },
  {
   "cell_type": "code",
   "execution_count": 23,
   "id": "c54bcfbd",
   "metadata": {
    "execution": {
     "iopub.execute_input": "2024-09-05T04:48:25.063206Z",
     "iopub.status.busy": "2024-09-05T04:48:25.062713Z",
     "iopub.status.idle": "2024-09-05T04:48:25.427585Z",
     "shell.execute_reply": "2024-09-05T04:48:25.426145Z"
    },
    "papermill": {
     "duration": 0.386837,
     "end_time": "2024-09-05T04:48:25.431332",
     "exception": false,
     "start_time": "2024-09-05T04:48:25.044495",
     "status": "completed"
    },
    "tags": []
   },
   "outputs": [
    {
     "data": {
      "image/png": "[encoded data removed]",
      "text/plain": [
       "<Figure size 640x480 with 1 Axes>"
      ]
     },
     "metadata": {},
     "output_type": "display_data"
    },
    {
     "name": "stdout",
     "output_type": "stream",
     "text": [
      " frog  ship  deer horse\n"
     ]
    }
   ],
   "source": [
    "import matplotlib.pyplot as plt\n",
    "import numpy as np\n",
    "\n",
    "# functions to show an image\n",
    "\n",
    "\n",
    "def imshow(img):\n",
    "    img = img / 2 + 0.5     # unnormalize\n",
    "    npimg = img.numpy()\n",
    "    plt.imshow(np.transpose(npimg, (1, 2, 0))) # The original size is (3, 32, 32) we need to tranpose (32, 32, 3) for imshow to display \n",
    "    plt.show()\n",
    "\n",
    "\n",
    "# get some random training images\n",
    "dataiter = iter(trainloader)\n",
    "images, labels = next(dataiter)\n",
    "\n",
    "# show images\n",
    "imshow(torchvision.utils.make_grid(images))\n",
    "# print labels\n",
    "print(' '.join('%5s' % classes[labels[j]] for j in range(4)))"
   ]
  },
  {
   "cell_type": "markdown",
   "id": "d41f0dce",
   "metadata": {
    "papermill": {
     "duration": 0.01722,
     "end_time": "2024-09-05T04:48:25.466441",
     "exception": false,
     "start_time": "2024-09-05T04:48:25.449221",
     "status": "completed"
    },
    "tags": []
   },
   "source": [
    "### **Define a Convultional Neural Network (CNN)**"
   ]
  },
  {
   "cell_type": "code",
   "execution_count": 24,
   "id": "28178b14",
   "metadata": {
    "execution": {
     "iopub.execute_input": "2024-09-05T04:48:25.504322Z",
     "iopub.status.busy": "2024-09-05T04:48:25.503763Z",
     "iopub.status.idle": "2024-09-05T04:48:25.514234Z",
     "shell.execute_reply": "2024-09-05T04:48:25.512837Z"
    },
    "papermill": {
     "duration": 0.032984,
     "end_time": "2024-09-05T04:48:25.516986",
     "exception": false,
     "start_time": "2024-09-05T04:48:25.484002",
     "status": "completed"
    },
    "tags": []
   },
   "outputs": [
    {
     "data": {
      "text/plain": [
       "torch.Size([3, 32, 32])"
      ]
     },
     "execution_count": 24,
     "metadata": {},
     "output_type": "execute_result"
    }
   ],
   "source": [
    "trainset[10][0].size()"
   ]
  },
  {
   "cell_type": "code",
   "execution_count": 25,
   "id": "045d5b46",
   "metadata": {
    "execution": {
     "iopub.execute_input": "2024-09-05T04:48:25.555650Z",
     "iopub.status.busy": "2024-09-05T04:48:25.554737Z",
     "iopub.status.idle": "2024-09-05T04:48:25.569188Z",
     "shell.execute_reply": "2024-09-05T04:48:25.568026Z"
    },
    "papermill": {
     "duration": 0.036551,
     "end_time": "2024-09-05T04:48:25.571550",
     "exception": false,
     "start_time": "2024-09-05T04:48:25.534999",
     "status": "completed"
    },
    "tags": []
   },
   "outputs": [],
   "source": [
    "import torch.nn as nn\n",
    "import torch.nn.functional as F\n",
    "\n",
    "class ConvNet(nn.Module):\n",
    "    def __init__(self):\n",
    "        super(ConvNet, self).__init__()\n",
    "        \n",
    "        self.conv1 = nn.Conv2d(3, 6, 5)\n",
    "        self.conv2 = nn.Conv2d(6, 12, 5)\n",
    "        \n",
    "        self.pool = nn.MaxPool2d(2, 2)\n",
    "        self.flatten = nn.Flatten()\n",
    "        \n",
    "        self.fc1 = nn.Linear(12*5*5, 120)\n",
    "        self.fc2 = nn.Linear(120, 40)\n",
    "        self.fc3 = nn.Linear(40, 10) # Since there are 10 classes\n",
    "        \n",
    "    def forward(self, x):\n",
    "        x = self.pool(F.relu(self.conv1(x)))\n",
    "        x = self.pool(F.relu(self.conv2(x)))\n",
    "        x = self.flatten(x)\n",
    "        x = F.relu(self.fc1(x))\n",
    "        x = F.relu(self.fc2(x))\n",
    "        x = self.fc3(x)\n",
    "        return x"
   ]
  },
  {
   "cell_type": "code",
   "execution_count": 26,
   "id": "bc731aa5",
   "metadata": {
    "execution": {
     "iopub.execute_input": "2024-09-05T04:48:25.608914Z",
     "iopub.status.busy": "2024-09-05T04:48:25.608464Z",
     "iopub.status.idle": "2024-09-05T04:48:25.618399Z",
     "shell.execute_reply": "2024-09-05T04:48:25.617170Z"
    },
    "papermill": {
     "duration": 0.031802,
     "end_time": "2024-09-05T04:48:25.621099",
     "exception": false,
     "start_time": "2024-09-05T04:48:25.589297",
     "status": "completed"
    },
    "tags": []
   },
   "outputs": [],
   "source": [
    "# Define GPU to compute\n",
    "device = torch.device(\"cuda:0\" if torch.cuda.is_available() else \"cpu\") # device object\n",
    "device\n",
    "\n",
    "net = ConvNet().to(device)\n",
    "# net = ConvNet()"
   ]
  },
  {
   "cell_type": "markdown",
   "id": "d368f0f8",
   "metadata": {
    "papermill": {
     "duration": 0.017461,
     "end_time": "2024-09-05T04:48:25.656256",
     "exception": false,
     "start_time": "2024-09-05T04:48:25.638795",
     "status": "completed"
    },
    "tags": []
   },
   "source": [
    "Define the loss function (Entropy Loss)"
   ]
  },
  {
   "cell_type": "code",
   "execution_count": 27,
   "id": "7d9d6670",
   "metadata": {
    "execution": {
     "iopub.execute_input": "2024-09-05T04:48:25.693517Z",
     "iopub.status.busy": "2024-09-05T04:48:25.693038Z",
     "iopub.status.idle": "2024-09-05T04:48:25.700092Z",
     "shell.execute_reply": "2024-09-05T04:48:25.698870Z"
    },
    "papermill": {
     "duration": 0.028519,
     "end_time": "2024-09-05T04:48:25.702510",
     "exception": false,
     "start_time": "2024-09-05T04:48:25.673991",
     "status": "completed"
    },
    "tags": []
   },
   "outputs": [],
   "source": [
    "import torch.optim as optim\n",
    "\n",
    "# Define loss function\n",
    "criterion = nn.CrossEntropyLoss()\n",
    "\n",
    "# Define an optimizer\n",
    "optimizer = optim.SGD(net.parameters(), lr = 0.001, momentum = 0.1) # lr = learning rate"
   ]
  },
  {
   "cell_type": "markdown",
   "id": "edea01ea",
   "metadata": {
    "papermill": {
     "duration": 0.017265,
     "end_time": "2024-09-05T04:48:25.737554",
     "exception": false,
     "start_time": "2024-09-05T04:48:25.720289",
     "status": "completed"
    },
    "tags": []
   },
   "source": [
    "**Train the network, and update + optimize the parameters and gradients (weights)**"
   ]
  },
  {
   "cell_type": "markdown",
   "id": "a412d2b0",
   "metadata": {
    "papermill": {
     "duration": 0.019633,
     "end_time": "2024-09-05T04:48:25.775097",
     "exception": false,
     "start_time": "2024-09-05T04:48:25.755464",
     "status": "completed"
    },
    "tags": []
   },
   "source": [
    "> **Training Step:**"
   ]
  },
  {
   "cell_type": "code",
   "execution_count": 28,
   "id": "1604ca32",
   "metadata": {
    "execution": {
     "iopub.execute_input": "2024-09-05T04:48:25.813107Z",
     "iopub.status.busy": "2024-09-05T04:48:25.812622Z",
     "iopub.status.idle": "2024-09-05T04:53:04.966459Z",
     "shell.execute_reply": "2024-09-05T04:53:04.964903Z"
    },
    "papermill": {
     "duration": 279.175775,
     "end_time": "2024-09-05T04:53:04.969182",
     "exception": false,
     "start_time": "2024-09-05T04:48:25.793407",
     "status": "completed"
    },
    "tags": []
   },
   "outputs": [
    {
     "name": "stdout",
     "output_type": "stream",
     "text": [
      "[1, 2000], Loss: 2.302372683405876\n",
      "[1, 4000], Loss: 2.2984560861587524\n",
      "[1, 6000], Loss: 2.289348899483681\n",
      "[1, 8000], Loss: 2.2576889496445656\n",
      "[1, 10000], Loss: 2.1723162723183633\n",
      "[2, 2000], Loss: 2.056275806069374\n",
      "[2, 4000], Loss: 1.9665036137402057\n",
      "[2, 6000], Loss: 1.9036490016281604\n",
      "[2, 8000], Loss: 1.8554945992529392\n",
      "[2, 10000], Loss: 1.8155186904668807\n",
      "[3, 2000], Loss: 1.7984662837684156\n",
      "[3, 4000], Loss: 1.7545942839682103\n",
      "[3, 6000], Loss: 1.7152723456919192\n",
      "[3, 8000], Loss: 1.683769366145134\n",
      "[3, 10000], Loss: 1.663623981386423\n",
      "[4, 2000], Loss: 1.6260397833138704\n",
      "[4, 4000], Loss: 1.6251855649501086\n",
      "[4, 6000], Loss: 1.5843112159371375\n",
      "[4, 8000], Loss: 1.5655050631463527\n",
      "[4, 10000], Loss: 1.525847852230072\n",
      "[5, 2000], Loss: 1.5255794178247453\n",
      "[5, 4000], Loss: 1.5122184476107359\n",
      "[5, 6000], Loss: 1.465139556095004\n",
      "[5, 8000], Loss: 1.4886697678118943\n",
      "[5, 10000], Loss: 1.4621308593600988\n",
      "Finished Training\n"
     ]
    }
   ],
   "source": [
    "# Training phase\n",
    "net.train()  # Set the model to training mode\n",
    "\n",
    "for epoch in range(5):\n",
    "    running_loss = 0.0\n",
    "    for i, data in enumerate(trainloader, 0):\n",
    "#         inputs, labels = data\n",
    "        inputs, labels = data[0].to(device), data[1].to(device)\n",
    "\n",
    "        optimizer.zero_grad()\n",
    "        \n",
    "        outputs = net(inputs)\n",
    "        \n",
    "        loss = criterion(outputs, labels)\n",
    "        loss.backward()\n",
    "        \n",
    "        optimizer.step()\n",
    "        \n",
    "        running_loss += loss.item()\n",
    "        if i % 2000 == 1999:\n",
    "            print(\"[{}, {}], Loss: {}\".format(epoch + 1, i + 1, running_loss / 2000.))\n",
    "            running_loss = 0.0\n",
    "print(\"Finished Training\")"
   ]
  },
  {
   "cell_type": "markdown",
   "id": "ad670e1c",
   "metadata": {
    "papermill": {
     "duration": 0.020304,
     "end_time": "2024-09-05T04:53:05.011266",
     "exception": false,
     "start_time": "2024-09-05T04:53:04.990962",
     "status": "completed"
    },
    "tags": []
   },
   "source": [
    "> **Validation Step:**"
   ]
  },
  {
   "cell_type": "code",
   "execution_count": 29,
   "id": "5e4abcfa",
   "metadata": {
    "execution": {
     "iopub.execute_input": "2024-09-05T04:53:05.053667Z",
     "iopub.status.busy": "2024-09-05T04:53:05.053172Z",
     "iopub.status.idle": "2024-09-05T04:54:13.713940Z",
     "shell.execute_reply": "2024-09-05T04:54:13.712425Z"
    },
    "papermill": {
     "duration": 68.685311,
     "end_time": "2024-09-05T04:54:13.716767",
     "exception": false,
     "start_time": "2024-09-05T04:53:05.031456",
     "status": "completed"
    },
    "tags": []
   },
   "outputs": [
    {
     "name": "stdout",
     "output_type": "stream",
     "text": [
      "[1, 2000], Loss: 1.4579790222644806\n",
      "[2, 2000], Loss: 1.417095108523965\n",
      "[3, 2000], Loss: 1.394476314663887\n",
      "[4, 2000], Loss: 1.370706197693944\n",
      "[5, 2000], Loss: 1.3513217972666025\n",
      "Finished Estimation Step\n"
     ]
    }
   ],
   "source": [
    "# Validation phase\n",
    "net.eval()  # Set the model to evaluation mode\n",
    "\n",
    "for epoch in range(5):\n",
    "    val_loss = 0.0\n",
    "    for i, valdata in enumerate(valloader, 0):\n",
    "#         inputs, labels = data\n",
    "        inputs, labels = valdata[0].to(device), valdata[1].to(device)\n",
    "\n",
    "        optimizer.zero_grad()\n",
    "        \n",
    "        outputs = net(inputs)\n",
    "        \n",
    "        loss = criterion(outputs, labels)\n",
    "        loss.backward()\n",
    "        \n",
    "        optimizer.step()\n",
    "        \n",
    "        val_loss += loss.item()\n",
    "        if i % 2000 == 1999:\n",
    "            print(\"[{}, {}], Loss: {}\".format(epoch + 1, i + 1, val_loss / 2000.))\n",
    "            val_loss = 0.0\n",
    "print(\"Finished Estimation Step\")\n"
   ]
  },
  {
   "cell_type": "markdown",
   "id": "0d73c37a",
   "metadata": {
    "papermill": {
     "duration": 0.020079,
     "end_time": "2024-09-05T04:54:13.758677",
     "exception": false,
     "start_time": "2024-09-05T04:54:13.738598",
     "status": "completed"
    },
    "tags": []
   },
   "source": [
    "## Test the Model on Testset"
   ]
  },
  {
   "cell_type": "code",
   "execution_count": 30,
   "id": "027d759e",
   "metadata": {
    "execution": {
     "iopub.execute_input": "2024-09-05T04:54:13.802135Z",
     "iopub.status.busy": "2024-09-05T04:54:13.801644Z",
     "iopub.status.idle": "2024-09-05T04:54:14.150665Z",
     "shell.execute_reply": "2024-09-05T04:54:14.148928Z"
    },
    "papermill": {
     "duration": 0.374558,
     "end_time": "2024-09-05T04:54:14.153706",
     "exception": false,
     "start_time": "2024-09-05T04:54:13.779148",
     "status": "completed"
    },
    "tags": []
   },
   "outputs": [
    {
     "name": "stdout",
     "output_type": "stream",
     "text": [
      "Actual cat\tPredicted: cat\n",
      "Actual ship\tPredicted: ship\n",
      "Actual ship\tPredicted: car\n",
      "Actual plane\tPredicted: ship\n"
     ]
    },
    {
     "data": {
      "image/png": "[encoded data removed]",
      "text/plain": [
       "<Figure size 640x480 with 1 Axes>"
      ]
     },
     "metadata": {},
     "output_type": "display_data"
    }
   ],
   "source": [
    "import numpy as np\n",
    "\n",
    "def imshow(img):\n",
    "    img = img / 2 + 0.5     # unnormalize\n",
    "    npimg = img.numpy()\n",
    "    plt.imshow(np.transpose(npimg, (1, 2, 0)))\n",
    "\n",
    "dataiter = iter(testloader)\n",
    "images, labels = next(dataiter) # Note: We only have 4 classes in labels (tensor([3, 8, 8, 0])) since the batch_size=4\n",
    "\n",
    "# # images, labels = images.to(device), labels.to(device)\n",
    "\n",
    "outputs = net(images.to(device))\n",
    "_, predicted = torch.max(outputs, 1)\n",
    "\n",
    "imshow(torchvision.utils.make_grid(images))\n",
    "\n",
    "for i in range(4):\n",
    "   print(\"Actual {}\\tPredicted: {}\".format(classes[labels[i]], classes[predicted[i]]))"
   ]
  },
  {
   "cell_type": "markdown",
   "id": "4d5119da",
   "metadata": {
    "papermill": {
     "duration": 0.021286,
     "end_time": "2024-09-05T04:54:14.197456",
     "exception": false,
     "start_time": "2024-09-05T04:54:14.176170",
     "status": "completed"
    },
    "tags": []
   },
   "source": [
    "Check the accuracy on the whole dataset"
   ]
  },
  {
   "cell_type": "code",
   "execution_count": 31,
   "id": "f1600f7a",
   "metadata": {
    "execution": {
     "iopub.execute_input": "2024-09-05T04:54:14.242602Z",
     "iopub.status.busy": "2024-09-05T04:54:14.242140Z",
     "iopub.status.idle": "2024-09-05T04:54:22.779922Z",
     "shell.execute_reply": "2024-09-05T04:54:22.778316Z"
    },
    "papermill": {
     "duration": 8.563974,
     "end_time": "2024-09-05T04:54:22.782876",
     "exception": false,
     "start_time": "2024-09-05T04:54:14.218902",
     "status": "completed"
    },
    "tags": []
   },
   "outputs": [
    {
     "name": "stdout",
     "output_type": "stream",
     "text": [
      "Accuracy of the network on the 10000 test images: 50 %\n"
     ]
    }
   ],
   "source": [
    "correct = 0\n",
    "total = 0\n",
    "\n",
    "# Disable to gradients(weights) update\n",
    "with torch.no_grad():\n",
    "    for data in testloader:\n",
    "        images, labels = data\n",
    "        images, labels = images.to(device), labels.to(device)\n",
    "        \n",
    "        outputs = net(images)\n",
    "        _, predicted = torch.max(outputs.data, 1)\n",
    "        total += labels.size(0)\n",
    "        correct += (predicted == labels).sum().item()\n",
    "\n",
    "print('Accuracy of the network on the 10000 test images: %d %%' % (\n",
    "    100 * correct / total))"
   ]
  }
 ],
 "metadata": {
  "kaggle": {
   "accelerator": "none",
   "dataSources": [],
   "isGpuEnabled": false,
   "isInternetEnabled": true,
   "language": "python",
   "sourceType": "notebook"
  },
  "kernelspec": {
   "display_name": "Python 3",
   "language": "python",
   "name": "python3"
  },
  "language_info": {
   "codemirror_mode": {
    "name": "ipython",
    "version": 3
   },
   "file_extension": ".py",
   "mimetype": "text/x-python",
   "name": "python",
   "nbconvert_exporter": "python",
   "pygments_lexer": "ipython3",
   "version": "3.10.14"
  },
  "papermill": {
   "default_parameters": {},
   "duration": 376.133772,
   "end_time": "2024-09-05T04:54:25.430687",
   "environment_variables": {},
   "exception": null,
   "input_path": "__notebook__.ipynb",
   "output_path": "__notebook__.ipynb",
   "parameters": {},
   "start_time": "2024-09-05T04:48:09.296915",
   "version": "2.6.0"
  }
 },
 "nbformat": 4,
 "nbformat_minor": 5
}
